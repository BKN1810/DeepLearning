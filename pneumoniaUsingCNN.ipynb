{
  "nbformat": 4,
  "nbformat_minor": 0,
  "metadata": {
    "colab": {
      "name": "pneumoniaUsingCNN.ipynb",
      "provenance": [],
      "collapsed_sections": [],
      "authorship_tag": "ABX9TyMCH9XTpyIIm6JncLYQdsNx",
      "include_colab_link": true
    },
    "kernelspec": {
      "name": "python3",
      "display_name": "Python 3"
    },
    "accelerator": "GPU"
  },
  "cells": [
    {
      "cell_type": "markdown",
      "metadata": {
        "id": "view-in-github",
        "colab_type": "text"
      },
      "source": [
        "<a href=\"https://colab.research.google.com/github/BKN1810/DeepLearning/blob/master/pneumoniaUsingCNN.ipynb\" target=\"_parent\"><img src=\"https://colab.research.google.com/assets/colab-badge.svg\" alt=\"Open In Colab\"/></a>"
      ]
    },
    {
      "cell_type": "code",
      "metadata": {
        "id": "7e59erpsKppB",
        "colab_type": "code",
        "colab": {
          "base_uri": "https://localhost:8080/",
          "height": 228
        },
        "outputId": "d2a8ba89-13c0-4f8f-ca8c-929e3fe8ba50"
      },
      "source": [
        "# install the dependencies\n",
        "!pip install kaggle "
      ],
      "execution_count": null,
      "outputs": [
        {
          "output_type": "stream",
          "text": [
            "Requirement already satisfied: kaggle in /usr/local/lib/python3.6/dist-packages (1.5.6)\n",
            "Requirement already satisfied: requests in /usr/local/lib/python3.6/dist-packages (from kaggle) (2.23.0)\n",
            "Requirement already satisfied: python-dateutil in /usr/local/lib/python3.6/dist-packages (from kaggle) (2.8.1)\n",
            "Requirement already satisfied: six>=1.10 in /usr/local/lib/python3.6/dist-packages (from kaggle) (1.15.0)\n",
            "Requirement already satisfied: urllib3<1.25,>=1.21.1 in /usr/local/lib/python3.6/dist-packages (from kaggle) (1.24.3)\n",
            "Requirement already satisfied: python-slugify in /usr/local/lib/python3.6/dist-packages (from kaggle) (4.0.1)\n",
            "Requirement already satisfied: tqdm in /usr/local/lib/python3.6/dist-packages (from kaggle) (4.41.1)\n",
            "Requirement already satisfied: certifi in /usr/local/lib/python3.6/dist-packages (from kaggle) (2020.6.20)\n",
            "Requirement already satisfied: chardet<4,>=3.0.2 in /usr/local/lib/python3.6/dist-packages (from requests->kaggle) (3.0.4)\n",
            "Requirement already satisfied: idna<3,>=2.5 in /usr/local/lib/python3.6/dist-packages (from requests->kaggle) (2.10)\n",
            "Requirement already satisfied: text-unidecode>=1.3 in /usr/local/lib/python3.6/dist-packages (from python-slugify->kaggle) (1.3)\n"
          ],
          "name": "stdout"
        }
      ]
    },
    {
      "cell_type": "code",
      "metadata": {
        "id": "rWTq4ceOsPgO",
        "colab_type": "code",
        "colab": {
          "resources": {
            "http://localhost:8080/nbextensions/google.colab/files.js": {
              "data": "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",
              "ok": true,
              "headers": [
                [
                  "content-type",
                  "application/javascript"
                ]
              ],
              "status": 200,
              "status_text": ""
            }
          },
          "base_uri": "https://localhost:8080/",
          "height": 91
        },
        "outputId": "853989ed-94f1-4d8d-9593-07205b89c4c2"
      },
      "source": [
        "from google.colab import files\n",
        "files.upload() # load kaggle.json file from your computer"
      ],
      "execution_count": null,
      "outputs": [
        {
          "output_type": "display_data",
          "data": {
            "text/html": [
              "\n",
              "     <input type=\"file\" id=\"files-cc4eb54b-f1c8-491b-9cc3-19277d79ed2f\" name=\"files[]\" multiple disabled\n",
              "        style=\"border:none\" />\n",
              "     <output id=\"result-cc4eb54b-f1c8-491b-9cc3-19277d79ed2f\">\n",
              "      Upload widget is only available when the cell has been executed in the\n",
              "      current browser session. Please rerun this cell to enable.\n",
              "      </output>\n",
              "      <script src=\"/nbextensions/google.colab/files.js\"></script> "
            ],
            "text/plain": [
              "<IPython.core.display.HTML object>"
            ]
          },
          "metadata": {
            "tags": []
          }
        },
        {
          "output_type": "stream",
          "text": [
            "Saving kaggle.json to kaggle.json\n"
          ],
          "name": "stdout"
        },
        {
          "output_type": "execute_result",
          "data": {
            "text/plain": [
              "{'kaggle.json': b'{\"username\":\"balnyaupane\",\"key\":\"52edf00e3d771704d70e964051fff001\"}'}"
            ]
          },
          "metadata": {
            "tags": []
          },
          "execution_count": 2
        }
      ]
    },
    {
      "cell_type": "code",
      "metadata": {
        "id": "VdtKXesqrMej",
        "colab_type": "code",
        "colab": {}
      },
      "source": [
        "!mkdir -p ~/.kaggle\n",
        "!cp kaggle.json ~/.kaggle/\n",
        "\n",
        "#Change the permission\n",
        "!chmod 600 ~/.kaggle/kaggle.json"
      ],
      "execution_count": null,
      "outputs": []
    },
    {
      "cell_type": "code",
      "metadata": {
        "id": "6rmKoqqBrIba",
        "colab_type": "code",
        "colab": {
          "base_uri": "https://localhost:8080/",
          "height": 69
        },
        "outputId": "19244200-f914-46cd-f7fe-6a4899acf928"
      },
      "source": [
        "!kaggle datasets download -d balnyaupane/pneumonia-chest-xray-dataset-200-by-200-image -p /content"
      ],
      "execution_count": null,
      "outputs": [
        {
          "output_type": "stream",
          "text": [
            "Downloading pneumonia-chest-xray-dataset-200-by-200-image.zip to /content\n",
            " 96% 161M/168M [00:02<00:00, 64.5MB/s]\n",
            "100% 168M/168M [00:02<00:00, 59.3MB/s]\n"
          ],
          "name": "stdout"
        }
      ]
    },
    {
      "cell_type": "code",
      "metadata": {
        "id": "v2S4NM3IqJtl",
        "colab_type": "code",
        "colab": {}
      },
      "source": [
        "!unzip -uq \"/content/pneumonia-chest-xray-dataset-200-by-200-image.zip\" -d \"/content/Dataset\""
      ],
      "execution_count": null,
      "outputs": []
    },
    {
      "cell_type": "code",
      "metadata": {
        "id": "vDtp8Ahfqaze",
        "colab_type": "code",
        "colab": {
          "base_uri": "https://localhost:8080/",
          "height": 35
        },
        "outputId": "73435435-692e-43d4-e368-3a7884349051"
      },
      "source": [
        "from keras.models import Sequential\n",
        "from keras.layers import Convolution2D, ZeroPadding2D ,BatchNormalization\n",
        "from keras.layers import MaxPooling2D\n",
        "from keras.layers import Flatten\n",
        "from keras.layers import Dense , Dropout"
      ],
      "execution_count": null,
      "outputs": [
        {
          "output_type": "stream",
          "text": [
            "Using TensorFlow backend.\n"
          ],
          "name": "stderr"
        }
      ]
    },
    {
      "cell_type": "code",
      "metadata": {
        "id": "bZItz9hutAuR",
        "colab_type": "code",
        "colab": {}
      },
      "source": [
        "classifier = Sequential()\n",
        "\n",
        "#step1-convolution\n",
        "# classifier.add(Convolution2D(filters=32, kernel_size=(3,3), strides=(1,1), input_shape=(S,S,3), activation='relu', padding='same'))\n",
        "# classifier.add(MaxPooling2D(pool_size=(2, 2)))\n",
        "\n",
        "classifier.add(Convolution2D(filters=64, kernel_size=(3,3), strides=(1,1),input_shape=(200,200,1),activation='relu'))\n",
        "classifier.add(MaxPooling2D((2,2)))\n",
        "classifier.add(Dropout(0.1))\n",
        "\n",
        "#adding second Convolution layer\n",
        "classifier.add(Convolution2D(filters=128, kernel_size=(3,3), strides=(1,1),activation='relu'))\n",
        "classifier.add(MaxPooling2D((2,2)))\n",
        "classifier.add(BatchNormalization())\n",
        "classifier.add(Dropout(0.4))\n",
        "\n",
        "#adding Third Convolution layer\n",
        "classifier.add(Convolution2D(filters=128, kernel_size=(3,3), strides=(2,2),activation='relu'))\n",
        "classifier.add(MaxPooling2D((2,2)))\n",
        "classifier.add(BatchNormalization())\n",
        "classifier.add(Dropout(0.5))\n",
        "\n",
        "#step3-flattening\n",
        "classifier.add(Flatten())\n",
        "\n",
        "#step4-full connection\n",
        "classifier.add(Dense(activation='relu',units=64))\n",
        "classifier.add(Dropout(0.5))\n",
        "\n",
        "classifier.add(Dense(activation='relu',units=32))\n",
        "\n",
        "classifier.add(Dense(activation='sigmoid',units=1))"
      ],
      "execution_count": null,
      "outputs": []
    },
    {
      "cell_type": "code",
      "metadata": {
        "id": "OFifcUpFtNKa",
        "colab_type": "code",
        "colab": {
          "base_uri": "https://localhost:8080/",
          "height": 780
        },
        "outputId": "d5298519-76ef-42d6-b6e7-9568af43b530"
      },
      "source": [
        "#compiling the cnn\n",
        "classifier.compile(optimizer='adam' , loss='binary_crossentropy',metrics=['accuracy'])\n",
        "\n",
        "#part2- fitting the CNN to the images\n",
        "from keras.preprocessing.image import ImageDataGenerator\n",
        "\n",
        "train_datagen = ImageDataGenerator(rescale=1./255,\n",
        "        shear_range=0.2,\n",
        "        zoom_range=0.2,\n",
        "        horizontal_flip=True)\n",
        "\n",
        "test_datagen = ImageDataGenerator(rescale=1./255)\n",
        "\n",
        "training_set = train_datagen.flow_from_directory('/content/Dataset/Pneumonia_dataset_200_by_200_image/train',\n",
        "        target_size=(200, 200),\n",
        "        batch_size=64,\n",
        "        color_mode='grayscale',\n",
        "        class_mode='binary')\n",
        "\n",
        "print(\"training_set.class_indices:   \",training_set.class_indices)\n",
        "\n",
        "test_set = test_datagen.flow_from_directory('/content/Dataset/Pneumonia_dataset_200_by_200_image/test',\n",
        "        target_size=(200, 200),\n",
        "        batch_size=64,\n",
        "        color_mode='grayscale',\n",
        "        class_mode='binary')\n",
        "\n",
        "print(\"test_set.class_indices:   \",test_set.class_indices)\n",
        "\n",
        "# summarize model.\n",
        "classifier.summary()"
      ],
      "execution_count": null,
      "outputs": [
        {
          "output_type": "stream",
          "text": [
            "Found 10432 images belonging to 2 classes.\n",
            "training_set.class_indices:    {'normal': 0, 'pneumonia': 1}\n",
            "Found 1248 images belonging to 2 classes.\n",
            "test_set.class_indices:    {'Normal': 0, 'pneumonia': 1}\n",
            "Model: \"sequential_4\"\n",
            "_________________________________________________________________\n",
            "Layer (type)                 Output Shape              Param #   \n",
            "=================================================================\n",
            "conv2d_11 (Conv2D)           (None, 198, 198, 128)     1280      \n",
            "_________________________________________________________________\n",
            "batch_normalization_8 (Batch (None, 198, 198, 128)     512       \n",
            "_________________________________________________________________\n",
            "max_pooling2d_11 (MaxPooling (None, 99, 99, 128)       0         \n",
            "_________________________________________________________________\n",
            "dropout_15 (Dropout)         (None, 99, 99, 128)       0         \n",
            "_________________________________________________________________\n",
            "conv2d_12 (Conv2D)           (None, 97, 97, 256)       295168    \n",
            "_________________________________________________________________\n",
            "max_pooling2d_12 (MaxPooling (None, 48, 48, 256)       0         \n",
            "_________________________________________________________________\n",
            "dropout_16 (Dropout)         (None, 48, 48, 256)       0         \n",
            "_________________________________________________________________\n",
            "conv2d_13 (Conv2D)           (None, 46, 46, 256)       590080    \n",
            "_________________________________________________________________\n",
            "max_pooling2d_13 (MaxPooling (None, 23, 23, 256)       0         \n",
            "_________________________________________________________________\n",
            "batch_normalization_9 (Batch (None, 23, 23, 256)       1024      \n",
            "_________________________________________________________________\n",
            "dropout_17 (Dropout)         (None, 23, 23, 256)       0         \n",
            "_________________________________________________________________\n",
            "flatten_4 (Flatten)          (None, 135424)            0         \n",
            "_________________________________________________________________\n",
            "dense_12 (Dense)             (None, 128)               17334400  \n",
            "_________________________________________________________________\n",
            "dropout_18 (Dropout)         (None, 128)               0         \n",
            "_________________________________________________________________\n",
            "dense_13 (Dense)             (None, 128)               16512     \n",
            "_________________________________________________________________\n",
            "dense_14 (Dense)             (None, 1)                 129       \n",
            "=================================================================\n",
            "Total params: 18,239,105\n",
            "Trainable params: 18,238,337\n",
            "Non-trainable params: 768\n",
            "_________________________________________________________________\n"
          ],
          "name": "stdout"
        }
      ]
    },
    {
      "cell_type": "code",
      "metadata": {
        "id": "Vlzu7hqhtx67",
        "colab_type": "code",
        "colab": {
          "base_uri": "https://localhost:8080/",
          "height": 1000
        },
        "outputId": "5af9a15c-a4f8-48d5-a107-a94387348764"
      },
      "source": [
        "History=classifier.fit_generator(training_set,\n",
        "        steps_per_epoch=326,\n",
        "        epochs=50,\n",
        "        validation_data=test_set,\n",
        "        validation_steps=39)"
      ],
      "execution_count": null,
      "outputs": [
        {
          "output_type": "stream",
          "text": [
            "Epoch 1/50\n",
            "326/326 [==============================] - 260s 796ms/step - loss: 0.4105 - accuracy: 0.8612 - val_loss: 27.7729 - val_accuracy: 0.6274\n",
            "Epoch 2/50\n",
            "326/326 [==============================] - 256s 786ms/step - loss: 0.2216 - accuracy: 0.9101 - val_loss: 0.6151 - val_accuracy: 0.7796\n",
            "Epoch 3/50\n",
            "326/326 [==============================] - 256s 784ms/step - loss: 0.1974 - accuracy: 0.9230 - val_loss: 0.6527 - val_accuracy: 0.7590\n",
            "Epoch 4/50\n",
            "326/326 [==============================] - 256s 784ms/step - loss: 0.1849 - accuracy: 0.9285 - val_loss: 0.4423 - val_accuracy: 0.8018\n",
            "Epoch 5/50\n",
            "326/326 [==============================] - 256s 784ms/step - loss: 0.1660 - accuracy: 0.9355 - val_loss: 0.5586 - val_accuracy: 0.8750\n",
            "Epoch 6/50\n",
            "326/326 [==============================] - 256s 784ms/step - loss: 0.1513 - accuracy: 0.9407 - val_loss: 0.6637 - val_accuracy: 0.7270\n",
            "Epoch 7/50\n",
            "326/326 [==============================] - 255s 783ms/step - loss: 0.1481 - accuracy: 0.9454 - val_loss: 0.5816 - val_accuracy: 0.7208\n",
            "Epoch 8/50\n",
            "326/326 [==============================] - 255s 784ms/step - loss: 0.1469 - accuracy: 0.9441 - val_loss: 0.8801 - val_accuracy: 0.7537\n",
            "Epoch 9/50\n",
            "326/326 [==============================] - 255s 783ms/step - loss: 0.1247 - accuracy: 0.9523 - val_loss: 0.8537 - val_accuracy: 0.7455\n",
            "Epoch 10/50\n",
            "326/326 [==============================] - 255s 783ms/step - loss: 0.1256 - accuracy: 0.9530 - val_loss: 1.1389 - val_accuracy: 0.6867\n",
            "Epoch 11/50\n",
            "326/326 [==============================] - 255s 783ms/step - loss: 0.1231 - accuracy: 0.9537 - val_loss: 0.2939 - val_accuracy: 0.8623\n",
            "Epoch 12/50\n",
            "326/326 [==============================] - 255s 783ms/step - loss: 0.1193 - accuracy: 0.9555 - val_loss: 0.2484 - val_accuracy: 0.9054\n",
            "Epoch 13/50\n",
            "326/326 [==============================] - 255s 783ms/step - loss: 0.1107 - accuracy: 0.9581 - val_loss: 2.1447 - val_accuracy: 0.6488\n",
            "Epoch 14/50\n",
            "326/326 [==============================] - 255s 783ms/step - loss: 0.1037 - accuracy: 0.9613 - val_loss: 1.4044 - val_accuracy: 0.6332\n",
            "Epoch 15/50\n",
            "326/326 [==============================] - 255s 783ms/step - loss: 0.1013 - accuracy: 0.9616 - val_loss: 0.3157 - val_accuracy: 0.9157\n",
            "Epoch 16/50\n",
            "326/326 [==============================] - 255s 782ms/step - loss: 0.1022 - accuracy: 0.9628 - val_loss: 0.2302 - val_accuracy: 0.9243\n",
            "Epoch 17/50\n",
            "326/326 [==============================] - 255s 783ms/step - loss: 0.0953 - accuracy: 0.9646 - val_loss: 0.5526 - val_accuracy: 0.8487\n",
            "Epoch 18/50\n",
            "326/326 [==============================] - 255s 782ms/step - loss: 0.0951 - accuracy: 0.9648 - val_loss: 0.3660 - val_accuracy: 0.8203\n",
            "Epoch 19/50\n",
            "326/326 [==============================] - 255s 782ms/step - loss: 0.0916 - accuracy: 0.9657 - val_loss: 3.3961 - val_accuracy: 0.6345\n",
            "Epoch 20/50\n",
            "326/326 [==============================] - 255s 782ms/step - loss: 0.0916 - accuracy: 0.9655 - val_loss: 0.2998 - val_accuracy: 0.9161\n",
            "Epoch 21/50\n",
            "326/326 [==============================] - 255s 783ms/step - loss: 0.0888 - accuracy: 0.9673 - val_loss: 0.5256 - val_accuracy: 0.6534\n",
            "Epoch 22/50\n",
            "326/326 [==============================] - 255s 783ms/step - loss: 0.0861 - accuracy: 0.9682 - val_loss: 0.3773 - val_accuracy: 0.6431\n",
            "Epoch 23/50\n",
            "326/326 [==============================] - 255s 782ms/step - loss: 0.0802 - accuracy: 0.9708 - val_loss: 0.3678 - val_accuracy: 0.8890\n",
            "Epoch 24/50\n",
            "326/326 [==============================] - 255s 783ms/step - loss: 0.0832 - accuracy: 0.9688 - val_loss: 0.3268 - val_accuracy: 0.9313\n",
            "Epoch 25/50\n",
            "326/326 [==============================] - 255s 782ms/step - loss: 0.0778 - accuracy: 0.9714 - val_loss: 0.2833 - val_accuracy: 0.8803\n",
            "Epoch 26/50\n",
            "326/326 [==============================] - 255s 782ms/step - loss: 0.0755 - accuracy: 0.9718 - val_loss: 0.2614 - val_accuracy: 0.9100\n",
            "Epoch 27/50\n",
            "326/326 [==============================] - 255s 783ms/step - loss: 0.0747 - accuracy: 0.9728 - val_loss: 0.2190 - val_accuracy: 0.8993\n",
            "Epoch 28/50\n",
            "326/326 [==============================] - 255s 783ms/step - loss: 0.0735 - accuracy: 0.9737 - val_loss: 1.1837 - val_accuracy: 0.6875\n",
            "Epoch 29/50\n",
            "326/326 [==============================] - 255s 782ms/step - loss: 0.0708 - accuracy: 0.9740 - val_loss: 0.3270 - val_accuracy: 0.8520\n",
            "Epoch 30/50\n",
            "326/326 [==============================] - 255s 782ms/step - loss: 0.0680 - accuracy: 0.9754 - val_loss: 0.3414 - val_accuracy: 0.8853\n",
            "Epoch 31/50\n",
            "326/326 [==============================] - 255s 783ms/step - loss: 0.0667 - accuracy: 0.9747 - val_loss: 0.1343 - val_accuracy: 0.9297\n",
            "Epoch 32/50\n",
            "326/326 [==============================] - 255s 782ms/step - loss: 0.0752 - accuracy: 0.9727 - val_loss: 1.3490 - val_accuracy: 0.7484\n",
            "Epoch 33/50\n",
            "326/326 [==============================] - 255s 783ms/step - loss: 0.0646 - accuracy: 0.9765 - val_loss: 0.6880 - val_accuracy: 0.8154\n",
            "Epoch 34/50\n",
            "326/326 [==============================] - 255s 783ms/step - loss: 0.0648 - accuracy: 0.9761 - val_loss: 0.7203 - val_accuracy: 0.6480\n",
            "Epoch 35/50\n",
            "326/326 [==============================] - 255s 782ms/step - loss: 0.0625 - accuracy: 0.9757 - val_loss: 1.1132 - val_accuracy: 0.8363\n",
            "Epoch 36/50\n",
            "326/326 [==============================] - 255s 782ms/step - loss: 0.0636 - accuracy: 0.9761 - val_loss: 0.2849 - val_accuracy: 0.8684\n",
            "Epoch 37/50\n",
            "326/326 [==============================] - 255s 782ms/step - loss: 0.0627 - accuracy: 0.9761 - val_loss: 0.2845 - val_accuracy: 0.8376\n",
            "Epoch 38/50\n",
            "326/326 [==============================] - 255s 782ms/step - loss: 0.0617 - accuracy: 0.9778 - val_loss: 0.7003 - val_accuracy: 0.7652\n",
            "Epoch 39/50\n",
            "326/326 [==============================] - 255s 782ms/step - loss: 0.0603 - accuracy: 0.9773 - val_loss: 0.5250 - val_accuracy: 0.8392\n",
            "Epoch 40/50\n",
            "326/326 [==============================] - 255s 782ms/step - loss: 0.0587 - accuracy: 0.9780 - val_loss: 1.5345 - val_accuracy: 0.6250\n",
            "Epoch 41/50\n",
            "326/326 [==============================] - 255s 782ms/step - loss: 0.0665 - accuracy: 0.9755 - val_loss: 0.3052 - val_accuracy: 0.8352\n",
            "Epoch 42/50\n",
            "326/326 [==============================] - 255s 782ms/step - loss: 0.0584 - accuracy: 0.9790 - val_loss: 0.5218 - val_accuracy: 0.9153\n",
            "Epoch 43/50\n",
            "326/326 [==============================] - 255s 782ms/step - loss: 0.0592 - accuracy: 0.9782 - val_loss: 0.4951 - val_accuracy: 0.6312\n",
            "Epoch 44/50\n",
            "326/326 [==============================] - 255s 782ms/step - loss: 0.0567 - accuracy: 0.9792 - val_loss: 0.1879 - val_accuracy: 0.9169\n",
            "Epoch 45/50\n",
            "326/326 [==============================] - 255s 782ms/step - loss: 0.0594 - accuracy: 0.9773 - val_loss: 3.1624 - val_accuracy: 0.6316\n",
            "Epoch 46/50\n",
            "326/326 [==============================] - 255s 782ms/step - loss: 0.0597 - accuracy: 0.9779 - val_loss: 1.8869 - val_accuracy: 0.6283\n",
            "Epoch 47/50\n",
            "326/326 [==============================] - 255s 782ms/step - loss: 0.0559 - accuracy: 0.9801 - val_loss: 0.3517 - val_accuracy: 0.8520\n",
            "Epoch 48/50\n",
            "326/326 [==============================] - 255s 782ms/step - loss: 0.0543 - accuracy: 0.9799 - val_loss: 0.5916 - val_accuracy: 0.7710\n",
            "Epoch 49/50\n",
            "326/326 [==============================] - 255s 783ms/step - loss: 0.0523 - accuracy: 0.9806 - val_loss: 1.2031 - val_accuracy: 0.7804\n",
            "Epoch 50/50\n",
            "326/326 [==============================] - 255s 783ms/step - loss: 0.0506 - accuracy: 0.9813 - val_loss: 0.2878 - val_accuracy: 0.8618\n"
          ],
          "name": "stdout"
        }
      ]
    },
    {
      "cell_type": "code",
      "metadata": {
        "id": "o9m-rpwrx6YM",
        "colab_type": "code",
        "colab": {
          "base_uri": "https://localhost:8080/",
          "height": 35
        },
        "outputId": "14a470f0-de79-41f5-b183-5d32ebb9ffe9"
      },
      "source": [
        "# list all data in history\n",
        "print(History.history.keys())"
      ],
      "execution_count": null,
      "outputs": [
        {
          "output_type": "stream",
          "text": [
            "dict_keys(['val_loss', 'val_accuracy', 'loss', 'accuracy'])\n"
          ],
          "name": "stdout"
        }
      ]
    },
    {
      "cell_type": "code",
      "metadata": {
        "id": "c4oBak-U425O",
        "colab_type": "code",
        "colab": {
          "base_uri": "https://localhost:8080/",
          "height": 295
        },
        "outputId": "272059d6-4761-4f71-cf77-268cb0320bc8"
      },
      "source": [
        "# summarize history for accuracy\n",
        "import matplotlib.pyplot as plt\n",
        "plt.plot(History.history['accuracy'])\n",
        "plt.plot(History.history['val_accuracy'])\n",
        "plt.title('model accuracy')\n",
        "plt.ylabel('accuracy')\n",
        "plt.xlabel('epoch')\n",
        "plt.legend(['train', 'test'], loc='upper left')\n",
        "plt.show()"
      ],
      "execution_count": null,
      "outputs": [
        {
          "output_type": "display_data",
          "data": {
            "image/png": "[encoded data removed]",
            "text/plain": [
              "<Figure size 432x288 with 1 Axes>"
            ]
          },
          "metadata": {
            "tags": [],
            "needs_background": "light"
          }
        }
      ]
    },
    {
      "cell_type": "code",
      "metadata": {
        "id": "I4SMv2QN4_bC",
        "colab_type": "code",
        "colab": {
          "base_uri": "https://localhost:8080/",
          "height": 295
        },
        "outputId": "85b4b42b-19d3-422f-ceee-76c568af58bc"
      },
      "source": [
        "# summarize history for loss\n",
        "plt.plot(History.history['loss'])\n",
        "plt.plot(History.history['val_loss'])\n",
        "plt.title('model loss')\n",
        "plt.ylabel('loss')\n",
        "plt.xlabel('epoch')\n",
        "plt.legend(['train', 'test'], loc='upper left')\n",
        "plt.show()"
      ],
      "execution_count": null,
      "outputs": [
        {
          "output_type": "display_data",
          "data": {
            "image/png": "[encoded data removed]",
            "text/plain": [
              "<Figure size 432x288 with 1 Axes>"
            ]
          },
          "metadata": {
            "tags": [],
            "needs_background": "light"
          }
        }
      ]
    },
    {
      "cell_type": "code",
      "metadata": {
        "id": "2g33EsB05Wez",
        "colab_type": "code",
        "colab": {}
      },
      "source": [
        "# Import dependencies\n",
        "import json\n",
        "from keras.models import model_from_json, load_model\n",
        "\n",
        "# Save Weights + Architecture\n",
        "classifier.save_weights('pneumoniaUsingCNN_weights.h5')\n",
        "with open('pneumoniaUsingCNN_architecture.json', 'w') as f:\n",
        "    f.write(classifier.to_json())"
      ],
      "execution_count": null,
      "outputs": []
    },
    {
      "cell_type": "code",
      "metadata": {
        "id": "GbB8X_E2C-M2",
        "colab_type": "code",
        "colab": {}
      },
      "source": [
        "# Load Weights + Architecture\n",
        "with open('pneumoniaUsingCNN_architecture.json', 'r') as f:\n",
        "    loaded_model = model_from_json(f.read())\n",
        "loaded_model.load_weights('pneumoniaUsingCNN_weights.h5')"
      ],
      "execution_count": null,
      "outputs": []
    },
    {
      "cell_type": "code",
      "metadata": {
        "id": "1TBFmPcmFeaY",
        "colab_type": "code",
        "colab": {
          "base_uri": "https://localhost:8080/",
          "height": 69
        },
        "outputId": "972c6d23-136a-41f2-8ebc-8fbef52cc141"
      },
      "source": [
        "#compiling the cnn\n",
        "loaded_model.compile(optimizer='rmsprop' , loss='binary_crossentropy',metrics=['accuracy'])\n",
        "\n",
        "loaded_model.evaluate_generator(training_set,max_queue_size=10,workers=1,use_multiprocessing=False,verbose=1)\n",
        "loaded_model.evaluate_generator(test_set,max_queue_size=10,workers=1,use_multiprocessing=False,verbose=1)\n",
        "print(loaded_model.metrics_names)"
      ],
      "execution_count": null,
      "outputs": [
        {
          "output_type": "stream",
          "text": [
            "163/163 [==============================] - 43s 263ms/step\n",
            "20/20 [==============================] - 4s 195ms/step\n",
            "['loss', 'accuracy']\n"
          ],
          "name": "stdout"
        }
      ]
    },
    {
      "cell_type": "code",
      "metadata": {
        "id": "iMzX7rrMthVG",
        "colab_type": "code",
        "colab": {
          "base_uri": "https://localhost:8080/",
          "height": 606
        },
        "outputId": "37db7213-4e38-4e68-a603-0379ceae066d"
      },
      "source": [
        "import numpy as np\n",
        "import seaborn as sns\n",
        "from sklearn.metrics import classification_report, confusion_matrix\n",
        "import matplotlib.pyplot as plt\n",
        "\n",
        "plt.figure(figsize=(10,6))\n",
        "\n",
        "# test_set.classes\n",
        "\n",
        "preds = classifier.predict(test_set)\n",
        "cm = confusion_matrix(test_set.classes, np.round(preds))\n",
        "#print(cm)\n",
        "\n",
        "# y_pred = np.argmax(Y_pred, axis=1)\n",
        "# print('Confusion Matrix')\n",
        "# cnf_matrix=confusion_matrix(test_set.classes, y_pred)\n",
        "\n",
        "cnf_report=classification_report(test_set.classes, np.round(preds))\n",
        "print(\" Classification report \")\n",
        "print(cnf_report)\n",
        "\n",
        "group_names = [\"True Pos\",\"False Neg\",\"False Pos\",\"True Neg\"]\n",
        "group_counts = ['{0:0.0f}'.format(value) for value in cm.flatten()]\n",
        "group_percentages = ['{0:.2%}'.format(value) for value in cm.flatten()/np.sum(cm)]\n",
        "\n",
        "labels = [f'{v1}\\n{v2}\\n{v3}' for v1, v2, v3 in zip(group_names,group_counts,group_percentages)]\n",
        "labels = np.asarray(labels).reshape(2,2)\n",
        "\n",
        "sns.heatmap(cm, annot=labels, fmt='', cmap='Blues')\n",
        "plt.show()"
      ],
      "execution_count": null,
      "outputs": [
        {
          "output_type": "stream",
          "text": [
            "/usr/local/lib/python3.6/dist-packages/statsmodels/tools/_testing.py:19: FutureWarning: pandas.util.testing is deprecated. Use the functions in the public API at pandas.testing instead.\n",
            "  import pandas.util.testing as tm\n"
          ],
          "name": "stderr"
        },
        {
          "output_type": "stream",
          "text": [
            " Classification report \n",
            "              precision    recall  f1-score   support\n",
            "\n",
            "           0       0.51      0.41      0.46      1000\n",
            "           1       0.51      0.60      0.55      1000\n",
            "\n",
            "    accuracy                           0.51      2000\n",
            "   macro avg       0.51      0.51      0.50      2000\n",
            "weighted avg       0.51      0.51      0.50      2000\n",
            "\n"
          ],
          "name": "stdout"
        },
        {
          "output_type": "display_data",
          "data": {
            "image/png": "[encoded data removed]",
            "text/plain": [
              "<Figure size 720x432 with 2 Axes>"
            ]
          },
          "metadata": {
            "tags": [],
            "needs_background": "light"
          }
        }
      ]
    },
    {
      "cell_type": "code",
      "metadata": {
        "id": "E4F5w15RRreu",
        "colab_type": "code",
        "colab": {}
      },
      "source": [
        ""
      ],
      "execution_count": null,
      "outputs": []
    }
  ]
}