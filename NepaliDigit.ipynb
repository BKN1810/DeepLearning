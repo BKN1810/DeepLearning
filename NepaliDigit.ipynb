{
  "nbformat": 4,
  "nbformat_minor": 0,
  "metadata": {
    "colab": {
      "name": " NepaliDigit.ipynb",
      "provenance": [],
      "authorship_tag": "ABX9TyPk7M4ROX7ovNY4p4Q8o5BM",
      "include_colab_link": true
    },
    "kernelspec": {
      "name": "python3",
      "display_name": "Python 3"
    },
    "accelerator": "GPU"
  },
  "cells": [
    {
      "cell_type": "markdown",
      "metadata": {
        "id": "view-in-github",
        "colab_type": "text"
      },
      "source": [
        "<a href=\"https://colab.research.google.com/github/BKN1810/DeepLearning/blob/master/NepaliDigit.ipynb\" target=\"_parent\"><img src=\"https://colab.research.google.com/assets/colab-badge.svg\" alt=\"Open In Colab\"/></a>"
      ]
    },
    {
      "cell_type": "code",
      "metadata": {
        "id": "2CQRluIfDi6f",
        "colab_type": "code",
        "colab": {
          "base_uri": "https://localhost:8080/",
          "height": 228
        },
        "outputId": "54a3fc8c-6a84-4845-a0aa-baaa25990f5f"
      },
      "source": [
        "# install the dependencies\n",
        "!pip install kaggle "
      ],
      "execution_count": 1,
      "outputs": [
        {
          "output_type": "stream",
          "text": [
            "Requirement already satisfied: kaggle in /usr/local/lib/python3.6/dist-packages (1.5.6)\n",
            "Requirement already satisfied: python-dateutil in /usr/local/lib/python3.6/dist-packages (from kaggle) (2.8.1)\n",
            "Requirement already satisfied: requests in /usr/local/lib/python3.6/dist-packages (from kaggle) (2.23.0)\n",
            "Requirement already satisfied: six>=1.10 in /usr/local/lib/python3.6/dist-packages (from kaggle) (1.15.0)\n",
            "Requirement already satisfied: tqdm in /usr/local/lib/python3.6/dist-packages (from kaggle) (4.41.1)\n",
            "Requirement already satisfied: certifi in /usr/local/lib/python3.6/dist-packages (from kaggle) (2020.6.20)\n",
            "Requirement already satisfied: urllib3<1.25,>=1.21.1 in /usr/local/lib/python3.6/dist-packages (from kaggle) (1.24.3)\n",
            "Requirement already satisfied: python-slugify in /usr/local/lib/python3.6/dist-packages (from kaggle) (4.0.1)\n",
            "Requirement already satisfied: chardet<4,>=3.0.2 in /usr/local/lib/python3.6/dist-packages (from requests->kaggle) (3.0.4)\n",
            "Requirement already satisfied: idna<3,>=2.5 in /usr/local/lib/python3.6/dist-packages (from requests->kaggle) (2.10)\n",
            "Requirement already satisfied: text-unidecode>=1.3 in /usr/local/lib/python3.6/dist-packages (from python-slugify->kaggle) (1.3)\n"
          ],
          "name": "stdout"
        }
      ]
    },
    {
      "cell_type": "code",
      "metadata": {
        "id": "K9QmY3zzDzOa",
        "colab_type": "code",
        "colab": {
          "resources": {
            "http://localhost:8080/nbextensions/google.colab/files.js": {
              "data": "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",
              "ok": true,
              "headers": [
                [
                  "content-type",
                  "application/javascript"
                ]
              ],
              "status": 200,
              "status_text": ""
            }
          },
          "base_uri": "https://localhost:8080/",
          "height": 91
        },
        "outputId": "ae9284a9-dfdf-4496-ecc7-7be46f94f9f3"
      },
      "source": [
        "from google.colab import files\n",
        "files.upload() # load kaggle.json file from your computer"
      ],
      "execution_count": 2,
      "outputs": [
        {
          "output_type": "display_data",
          "data": {
            "text/html": [
              "\n",
              "     <input type=\"file\" id=\"files-a9bc0585-f806-4013-9785-9cdbf811d8ce\" name=\"files[]\" multiple disabled\n",
              "        style=\"border:none\" />\n",
              "     <output id=\"result-a9bc0585-f806-4013-9785-9cdbf811d8ce\">\n",
              "      Upload widget is only available when the cell has been executed in the\n",
              "      current browser session. Please rerun this cell to enable.\n",
              "      </output>\n",
              "      <script src=\"/nbextensions/google.colab/files.js\"></script> "
            ],
            "text/plain": [
              "<IPython.core.display.HTML object>"
            ]
          },
          "metadata": {
            "tags": []
          }
        },
        {
          "output_type": "stream",
          "text": [
            "Saving kaggle.json to kaggle.json\n"
          ],
          "name": "stdout"
        },
        {
          "output_type": "execute_result",
          "data": {
            "text/plain": [
              "{'kaggle.json': b'{\"username\":\"balnyaupane\",\"key\":\"f6b3948d7e76cad0d9405882ba27bb6a\"}'}"
            ]
          },
          "metadata": {
            "tags": []
          },
          "execution_count": 2
        }
      ]
    },
    {
      "cell_type": "code",
      "metadata": {
        "id": "OxMJqKojD40X",
        "colab_type": "code",
        "colab": {}
      },
      "source": [
        "!mkdir -p ~/.kaggle\n",
        "!cp kaggle.json ~/.kaggle/\n",
        "\n",
        "#Change the permission\n",
        "!chmod 600 ~/.kaggle/kaggle.json"
      ],
      "execution_count": 3,
      "outputs": []
    },
    {
      "cell_type": "code",
      "metadata": {
        "id": "dGkK0dn3EA0P",
        "colab_type": "code",
        "colab": {
          "base_uri": "https://localhost:8080/",
          "height": 69
        },
        "outputId": "f9e99663-e165-4aa1-bdb9-ea00f95726d5"
      },
      "source": [
        "!kaggle datasets download -d balnyaupane/nepali-digit-28-by-28-images -p /content"
      ],
      "execution_count": 4,
      "outputs": [
        {
          "output_type": "stream",
          "text": [
            "Downloading nepali-digit-28-by-28-images.zip to /content\n",
            " 68% 5.00M/7.40M [00:01<00:00, 3.45MB/s]\n",
            "100% 7.40M/7.40M [00:01<00:00, 4.95MB/s]\n"
          ],
          "name": "stdout"
        }
      ]
    },
    {
      "cell_type": "code",
      "metadata": {
        "id": "Vu7ZXpzBEKAq",
        "colab_type": "code",
        "colab": {}
      },
      "source": [
        "!unzip -uq \"/content/nepali-digit-28-by-28-images.zip\" -d \"/content/Dataset\""
      ],
      "execution_count": 5,
      "outputs": []
    },
    {
      "cell_type": "code",
      "metadata": {
        "id": "9hgkz34dEZXD",
        "colab_type": "code",
        "colab": {
          "base_uri": "https://localhost:8080/",
          "height": 35
        },
        "outputId": "4821a2a1-6bbf-488e-f54c-5b62603fca93"
      },
      "source": [
        "from keras.models import Sequential\n",
        "from keras.layers import Convolution2D, ZeroPadding2D ,BatchNormalization\n",
        "from keras.layers import MaxPooling2D\n",
        "from keras.layers import Flatten\n",
        "from keras.layers import Dense , Dropout"
      ],
      "execution_count": 6,
      "outputs": [
        {
          "output_type": "stream",
          "text": [
            "Using TensorFlow backend.\n"
          ],
          "name": "stderr"
        }
      ]
    },
    {
      "cell_type": "code",
      "metadata": {
        "id": "JwbBhKQlEvex",
        "colab_type": "code",
        "colab": {}
      },
      "source": [
        "classifier = Sequential()\n",
        "\n",
        "#step1-convolution\n",
        "classifier.add(Convolution2D(128,(3,3),input_shape=(28,28,1),activation='relu'))\n",
        "classifier.add(BatchNormalization())\n",
        "classifier.add(MaxPooling2D((2,2)))\n",
        "classifier.add(Dropout(0.15))\n",
        "\n",
        "\n",
        "#adding second Convolution layer\n",
        "classifier.add(Convolution2D(256,(3,3),activation='relu'))\n",
        "classifier.add(BatchNormalization())\n",
        "classifier.add(Dropout(0.2))\n",
        "\n",
        "#adding third Convolution layer\n",
        "classifier.add(Convolution2D(256,(3,3),activation='relu'))\n",
        "classifier.add(BatchNormalization())\n",
        "classifier.add(MaxPooling2D((2,2)))\n",
        "classifier.add(Dropout(0.4))\n",
        "\n",
        "#adding fourth Convolution layer\n",
        "classifier.add(Convolution2D(512,(3,3),activation='relu'))\n",
        "classifier.add(BatchNormalization())\n",
        "classifier.add(MaxPooling2D((2,2)))\n",
        "classifier.add(Dropout(0.4))\n",
        "\n",
        "\n",
        "#step3-flattening\n",
        "classifier.add(Flatten())\n",
        "\n",
        "#step4-full connection\n",
        "classifier.add(Dense(activation='relu',units=512))\n",
        "classifier.add(Dropout(0.5))\n",
        "\n",
        "classifier.add(Dense(activation='relu',units=512))\n",
        "classifier.add(BatchNormalization())\n",
        "classifier.add(Dropout(0.5))\n",
        "\n",
        "\n",
        "classifier.add(Dense(activation='relu',units=128))\n",
        "classifier.add(BatchNormalization())\n",
        "classifier.add(Dropout(0.5))\n",
        "\n",
        "classifier.add(Dense(activation='relu',units=128))\n",
        "classifier.add(BatchNormalization())\n",
        "classifier.add(Dropout(0.25))\n",
        "\n",
        "classifier.add(Dense(activation='softmax',units=10))"
      ],
      "execution_count": 7,
      "outputs": []
    },
    {
      "cell_type": "code",
      "metadata": {
        "id": "7Fn9T6ktFQox",
        "colab_type": "code",
        "colab": {
          "base_uri": "https://localhost:8080/",
          "height": 1000
        },
        "outputId": "becd9c30-96c3-45a8-dabd-685f9887c243"
      },
      "source": [
        "#compiling the cnn\n",
        "classifier.compile(optimizer='adam' , loss='categorical_crossentropy',metrics=['accuracy'])\n",
        "\n",
        "#part2- fitting the CNN to the images\n",
        "from keras.preprocessing.image import ImageDataGenerator\n",
        "\n",
        "train_datagen = ImageDataGenerator(rescale=1./255,\n",
        "        shear_range=0.2,\n",
        "        zoom_range=0.2,\n",
        "        horizontal_flip=True)\n",
        "\n",
        "test_datagen = ImageDataGenerator(rescale=1./255)\n",
        "\n",
        "training_set = train_datagen.flow_from_directory('/content/Dataset/nepali_digit_28_by_28_images/train_set',\n",
        "        target_size=(28, 28),\n",
        "        batch_size=64,\n",
        "        color_mode='grayscale',\n",
        "        class_mode='categorical')\n",
        "\n",
        "print(\"training_set.class_indices:   \",training_set.class_indices)\n",
        "\n",
        "test_set = test_datagen.flow_from_directory('/content/Dataset/nepali_digit_28_by_28_images/test_set',\n",
        "        target_size=(28, 28),\n",
        "        batch_size=64,\n",
        "        color_mode='grayscale',\n",
        "        class_mode='categorical')\n",
        "\n",
        "print(\"test_set.class_indices:   \",test_set.class_indices)\n",
        "\n",
        "# summarize model.\n",
        "classifier.summary()"
      ],
      "execution_count": 8,
      "outputs": [
        {
          "output_type": "stream",
          "text": [
            "Found 5820 images belonging to 10 classes.\n",
            "training_set.class_indices:    {'digit_0': 0, 'digit_1': 1, 'digit_2': 2, 'digit_3': 3, 'digit_4': 4, 'digit_5': 5, 'digit_6': 6, 'digit_7': 7, 'digit_8': 8, 'digit_9': 9}\n",
            "Found 3850 images belonging to 10 classes.\n",
            "test_set.class_indices:    {'digit_0': 0, 'digit_1': 1, 'digit_2': 2, 'digit_3': 3, 'digit_4': 4, 'digit_5': 5, 'digit_6': 6, 'digit_7': 7, 'digit_8': 8, 'digit_9': 9}\n",
            "Model: \"sequential_1\"\n",
            "_________________________________________________________________\n",
            "Layer (type)                 Output Shape              Param #   \n",
            "=================================================================\n",
            "conv2d_1 (Conv2D)            (None, 26, 26, 128)       1280      \n",
            "_________________________________________________________________\n",
            "batch_normalization_1 (Batch (None, 26, 26, 128)       512       \n",
            "_________________________________________________________________\n",
            "max_pooling2d_1 (MaxPooling2 (None, 13, 13, 128)       0         \n",
            "_________________________________________________________________\n",
            "dropout_1 (Dropout)          (None, 13, 13, 128)       0         \n",
            "_________________________________________________________________\n",
            "conv2d_2 (Conv2D)            (None, 11, 11, 256)       295168    \n",
            "_________________________________________________________________\n",
            "batch_normalization_2 (Batch (None, 11, 11, 256)       1024      \n",
            "_________________________________________________________________\n",
            "dropout_2 (Dropout)          (None, 11, 11, 256)       0         \n",
            "_________________________________________________________________\n",
            "conv2d_3 (Conv2D)            (None, 9, 9, 256)         590080    \n",
            "_________________________________________________________________\n",
            "batch_normalization_3 (Batch (None, 9, 9, 256)         1024      \n",
            "_________________________________________________________________\n",
            "max_pooling2d_2 (MaxPooling2 (None, 4, 4, 256)         0         \n",
            "_________________________________________________________________\n",
            "dropout_3 (Dropout)          (None, 4, 4, 256)         0         \n",
            "_________________________________________________________________\n",
            "conv2d_4 (Conv2D)            (None, 2, 2, 512)         1180160   \n",
            "_________________________________________________________________\n",
            "batch_normalization_4 (Batch (None, 2, 2, 512)         2048      \n",
            "_________________________________________________________________\n",
            "max_pooling2d_3 (MaxPooling2 (None, 1, 1, 512)         0         \n",
            "_________________________________________________________________\n",
            "dropout_4 (Dropout)          (None, 1, 1, 512)         0         \n",
            "_________________________________________________________________\n",
            "flatten_1 (Flatten)          (None, 512)               0         \n",
            "_________________________________________________________________\n",
            "dense_1 (Dense)              (None, 512)               262656    \n",
            "_________________________________________________________________\n",
            "dropout_5 (Dropout)          (None, 512)               0         \n",
            "_________________________________________________________________\n",
            "dense_2 (Dense)              (None, 512)               262656    \n",
            "_________________________________________________________________\n",
            "batch_normalization_5 (Batch (None, 512)               2048      \n",
            "_________________________________________________________________\n",
            "dropout_6 (Dropout)          (None, 512)               0         \n",
            "_________________________________________________________________\n",
            "dense_3 (Dense)              (None, 128)               65664     \n",
            "_________________________________________________________________\n",
            "batch_normalization_6 (Batch (None, 128)               512       \n",
            "_________________________________________________________________\n",
            "dropout_7 (Dropout)          (None, 128)               0         \n",
            "_________________________________________________________________\n",
            "dense_4 (Dense)              (None, 128)               16512     \n",
            "_________________________________________________________________\n",
            "batch_normalization_7 (Batch (None, 128)               512       \n",
            "_________________________________________________________________\n",
            "dropout_8 (Dropout)          (None, 128)               0         \n",
            "_________________________________________________________________\n",
            "dense_5 (Dense)              (None, 10)                1290      \n",
            "=================================================================\n",
            "Total params: 2,683,146\n",
            "Trainable params: 2,679,306\n",
            "Non-trainable params: 3,840\n",
            "_________________________________________________________________\n"
          ],
          "name": "stdout"
        }
      ]
    },
    {
      "cell_type": "code",
      "metadata": {
        "id": "Z6adeFFFGAWh",
        "colab_type": "code",
        "colab": {
          "base_uri": "https://localhost:8080/",
          "height": 1000
        },
        "outputId": "018b191c-b220-419d-d414-a77394dcac95"
      },
      "source": [
        "History=classifier.fit_generator(training_set,\n",
        "        steps_per_epoch=91,\n",
        "        epochs=100,\n",
        "        validation_data=test_set,\n",
        "        validation_steps=61)"
      ],
      "execution_count": 9,
      "outputs": [
        {
          "output_type": "stream",
          "text": [
            "Epoch 1/100\n",
            "91/91 [==============================] - 17s 182ms/step - loss: 2.5956 - accuracy: 0.1698 - val_loss: 2.2608 - val_accuracy: 0.1008\n",
            "Epoch 2/100\n",
            "91/91 [==============================] - 8s 90ms/step - loss: 1.9049 - accuracy: 0.3174 - val_loss: 2.1407 - val_accuracy: 0.1873\n",
            "Epoch 3/100\n",
            "91/91 [==============================] - 8s 90ms/step - loss: 1.5120 - accuracy: 0.4192 - val_loss: 2.1604 - val_accuracy: 0.1987\n",
            "Epoch 4/100\n",
            "91/91 [==============================] - 8s 91ms/step - loss: 1.1981 - accuracy: 0.5522 - val_loss: 1.6142 - val_accuracy: 0.3156\n",
            "Epoch 5/100\n",
            "91/91 [==============================] - 8s 90ms/step - loss: 0.9447 - accuracy: 0.6595 - val_loss: 0.7020 - val_accuracy: 0.5314\n",
            "Epoch 6/100\n",
            "91/91 [==============================] - 8s 91ms/step - loss: 0.7740 - accuracy: 0.7345 - val_loss: 0.9217 - val_accuracy: 0.6764\n",
            "Epoch 7/100\n",
            "91/91 [==============================] - 8s 90ms/step - loss: 0.6230 - accuracy: 0.7899 - val_loss: 0.6706 - val_accuracy: 0.7083\n",
            "Epoch 8/100\n",
            "91/91 [==============================] - 8s 90ms/step - loss: 0.5335 - accuracy: 0.8282 - val_loss: 0.4651 - val_accuracy: 0.7865\n",
            "Epoch 9/100\n",
            "91/91 [==============================] - 8s 90ms/step - loss: 0.4410 - accuracy: 0.8593 - val_loss: 0.2332 - val_accuracy: 0.8696\n",
            "Epoch 10/100\n",
            "91/91 [==============================] - 8s 90ms/step - loss: 0.4089 - accuracy: 0.8686 - val_loss: 0.5155 - val_accuracy: 0.8719\n",
            "Epoch 11/100\n",
            "91/91 [==============================] - 8s 91ms/step - loss: 0.3506 - accuracy: 0.8878 - val_loss: 0.7937 - val_accuracy: 0.8756\n",
            "Epoch 12/100\n",
            "91/91 [==============================] - 8s 90ms/step - loss: 0.3348 - accuracy: 0.8998 - val_loss: 0.9692 - val_accuracy: 0.8771\n",
            "Epoch 13/100\n",
            "91/91 [==============================] - 8s 91ms/step - loss: 0.3028 - accuracy: 0.9053 - val_loss: 0.0617 - val_accuracy: 0.9039\n",
            "Epoch 14/100\n",
            "91/91 [==============================] - 8s 91ms/step - loss: 0.2730 - accuracy: 0.9151 - val_loss: 0.6960 - val_accuracy: 0.9029\n",
            "Epoch 15/100\n",
            "91/91 [==============================] - 8s 90ms/step - loss: 0.2782 - accuracy: 0.9191 - val_loss: 0.0338 - val_accuracy: 0.9057\n",
            "Epoch 16/100\n",
            "91/91 [==============================] - 8s 90ms/step - loss: 0.2323 - accuracy: 0.9302 - val_loss: 0.4903 - val_accuracy: 0.9140\n",
            "Epoch 17/100\n",
            "91/91 [==============================] - 8s 90ms/step - loss: 0.2248 - accuracy: 0.9337 - val_loss: 0.0195 - val_accuracy: 0.9247\n",
            "Epoch 18/100\n",
            "91/91 [==============================] - 8s 90ms/step - loss: 0.2191 - accuracy: 0.9318 - val_loss: 2.3522e-04 - val_accuracy: 0.9229\n",
            "Epoch 19/100\n",
            "91/91 [==============================] - 8s 90ms/step - loss: 0.2049 - accuracy: 0.9407 - val_loss: 0.5519 - val_accuracy: 0.9226\n",
            "Epoch 20/100\n",
            "91/91 [==============================] - 8s 90ms/step - loss: 0.2256 - accuracy: 0.9338 - val_loss: 0.4529 - val_accuracy: 0.8966\n",
            "Epoch 21/100\n",
            "91/91 [==============================] - 8s 90ms/step - loss: 0.1971 - accuracy: 0.9395 - val_loss: 0.0124 - val_accuracy: 0.9286\n",
            "Epoch 22/100\n",
            "91/91 [==============================] - 8s 91ms/step - loss: 0.1820 - accuracy: 0.9488 - val_loss: 0.7401 - val_accuracy: 0.9255\n",
            "Epoch 23/100\n",
            "91/91 [==============================] - 8s 91ms/step - loss: 0.1658 - accuracy: 0.9510 - val_loss: 0.0010 - val_accuracy: 0.9426\n",
            "Epoch 24/100\n",
            "91/91 [==============================] - 8s 90ms/step - loss: 0.1596 - accuracy: 0.9538 - val_loss: 0.0118 - val_accuracy: 0.9319\n",
            "Epoch 25/100\n",
            "91/91 [==============================] - 8s 90ms/step - loss: 0.1690 - accuracy: 0.9526 - val_loss: 3.0315e-04 - val_accuracy: 0.9452\n",
            "Epoch 26/100\n",
            "91/91 [==============================] - 8s 90ms/step - loss: 0.1479 - accuracy: 0.9555 - val_loss: 0.4500 - val_accuracy: 0.9312\n",
            "Epoch 27/100\n",
            "91/91 [==============================] - 8s 90ms/step - loss: 0.1527 - accuracy: 0.9543 - val_loss: 0.2147 - val_accuracy: 0.9468\n",
            "Epoch 28/100\n",
            "91/91 [==============================] - 8s 90ms/step - loss: 0.1518 - accuracy: 0.9565 - val_loss: 0.0394 - val_accuracy: 0.9345\n",
            "Epoch 29/100\n",
            "91/91 [==============================] - 8s 90ms/step - loss: 0.1340 - accuracy: 0.9607 - val_loss: 0.0186 - val_accuracy: 0.9468\n",
            "Epoch 30/100\n",
            "91/91 [==============================] - 8s 90ms/step - loss: 0.1269 - accuracy: 0.9603 - val_loss: 1.1477 - val_accuracy: 0.9426\n",
            "Epoch 31/100\n",
            "91/91 [==============================] - 8s 91ms/step - loss: 0.1217 - accuracy: 0.9605 - val_loss: 2.3516e-04 - val_accuracy: 0.9405\n",
            "Epoch 32/100\n",
            "91/91 [==============================] - 8s 89ms/step - loss: 0.1507 - accuracy: 0.9545 - val_loss: 0.0021 - val_accuracy: 0.9283\n",
            "Epoch 33/100\n",
            "91/91 [==============================] - 8s 90ms/step - loss: 0.1382 - accuracy: 0.9569 - val_loss: 1.1433 - val_accuracy: 0.9247\n",
            "Epoch 34/100\n",
            "91/91 [==============================] - 8s 90ms/step - loss: 0.1241 - accuracy: 0.9639 - val_loss: 0.0211 - val_accuracy: 0.9460\n",
            "Epoch 35/100\n",
            "91/91 [==============================] - 8s 90ms/step - loss: 0.1337 - accuracy: 0.9619 - val_loss: 7.9348e-04 - val_accuracy: 0.9397\n",
            "Epoch 36/100\n",
            "91/91 [==============================] - 8s 90ms/step - loss: 0.1146 - accuracy: 0.9691 - val_loss: 0.0093 - val_accuracy: 0.9426\n",
            "Epoch 37/100\n",
            "91/91 [==============================] - 8s 89ms/step - loss: 0.1276 - accuracy: 0.9625 - val_loss: 0.0524 - val_accuracy: 0.9442\n",
            "Epoch 38/100\n",
            "91/91 [==============================] - 8s 91ms/step - loss: 0.1256 - accuracy: 0.9648 - val_loss: 0.5338 - val_accuracy: 0.9353\n",
            "Epoch 39/100\n",
            "91/91 [==============================] - 8s 90ms/step - loss: 0.1112 - accuracy: 0.9663 - val_loss: 0.4286 - val_accuracy: 0.9577\n",
            "Epoch 40/100\n",
            "91/91 [==============================] - 8s 89ms/step - loss: 0.1085 - accuracy: 0.9674 - val_loss: 0.3503 - val_accuracy: 0.9473\n",
            "Epoch 41/100\n",
            "91/91 [==============================] - 8s 90ms/step - loss: 0.1029 - accuracy: 0.9670 - val_loss: 0.4181 - val_accuracy: 0.9530\n",
            "Epoch 42/100\n",
            "91/91 [==============================] - 8s 90ms/step - loss: 0.1081 - accuracy: 0.9682 - val_loss: 0.5899 - val_accuracy: 0.9574\n",
            "Epoch 43/100\n",
            "91/91 [==============================] - 8s 90ms/step - loss: 0.1155 - accuracy: 0.9653 - val_loss: 0.0106 - val_accuracy: 0.9564\n",
            "Epoch 44/100\n",
            "91/91 [==============================] - 8s 90ms/step - loss: 0.1109 - accuracy: 0.9679 - val_loss: 0.5172 - val_accuracy: 0.9558\n",
            "Epoch 45/100\n",
            "91/91 [==============================] - 8s 90ms/step - loss: 0.0904 - accuracy: 0.9749 - val_loss: 7.7459e-04 - val_accuracy: 0.9468\n",
            "Epoch 46/100\n",
            "91/91 [==============================] - 8s 89ms/step - loss: 0.0885 - accuracy: 0.9729 - val_loss: 0.0012 - val_accuracy: 0.9652\n",
            "Epoch 47/100\n",
            "91/91 [==============================] - 8s 90ms/step - loss: 0.0879 - accuracy: 0.9749 - val_loss: 0.0257 - val_accuracy: 0.9618\n",
            "Epoch 48/100\n",
            "91/91 [==============================] - 8s 89ms/step - loss: 0.0854 - accuracy: 0.9753 - val_loss: 0.0153 - val_accuracy: 0.9421\n",
            "Epoch 49/100\n",
            "91/91 [==============================] - 8s 90ms/step - loss: 0.0912 - accuracy: 0.9735 - val_loss: 0.3046 - val_accuracy: 0.9605\n",
            "Epoch 50/100\n",
            "91/91 [==============================] - 8s 90ms/step - loss: 0.0941 - accuracy: 0.9723 - val_loss: 0.1917 - val_accuracy: 0.9434\n",
            "Epoch 51/100\n",
            "91/91 [==============================] - 8s 89ms/step - loss: 0.1007 - accuracy: 0.9711 - val_loss: 0.1188 - val_accuracy: 0.9481\n",
            "Epoch 52/100\n",
            "91/91 [==============================] - 8s 89ms/step - loss: 0.0925 - accuracy: 0.9701 - val_loss: 0.1959 - val_accuracy: 0.9361\n",
            "Epoch 53/100\n",
            "91/91 [==============================] - 8s 90ms/step - loss: 0.0947 - accuracy: 0.9729 - val_loss: 0.0122 - val_accuracy: 0.9400\n",
            "Epoch 54/100\n",
            "91/91 [==============================] - 8s 90ms/step - loss: 0.0816 - accuracy: 0.9784 - val_loss: 0.4687 - val_accuracy: 0.9468\n",
            "Epoch 55/100\n",
            "91/91 [==============================] - 8s 90ms/step - loss: 0.0957 - accuracy: 0.9729 - val_loss: 1.5568e-04 - val_accuracy: 0.9392\n",
            "Epoch 56/100\n",
            "91/91 [==============================] - 8s 90ms/step - loss: 0.0896 - accuracy: 0.9741 - val_loss: 1.9659e-04 - val_accuracy: 0.9447\n",
            "Epoch 57/100\n",
            "91/91 [==============================] - 8s 91ms/step - loss: 0.0778 - accuracy: 0.9765 - val_loss: 0.0033 - val_accuracy: 0.9512\n",
            "Epoch 58/100\n",
            "91/91 [==============================] - 8s 89ms/step - loss: 0.0745 - accuracy: 0.9784 - val_loss: 0.6953 - val_accuracy: 0.9273\n",
            "Epoch 59/100\n",
            "91/91 [==============================] - 8s 90ms/step - loss: 0.0767 - accuracy: 0.9775 - val_loss: 1.0063 - val_accuracy: 0.9382\n",
            "Epoch 60/100\n",
            "91/91 [==============================] - 8s 92ms/step - loss: 0.0752 - accuracy: 0.9782 - val_loss: 0.1460 - val_accuracy: 0.9587\n",
            "Epoch 61/100\n",
            "91/91 [==============================] - 8s 90ms/step - loss: 0.0754 - accuracy: 0.9778 - val_loss: 0.0677 - val_accuracy: 0.9416\n",
            "Epoch 62/100\n",
            "91/91 [==============================] - 8s 90ms/step - loss: 0.0791 - accuracy: 0.9761 - val_loss: 0.2590 - val_accuracy: 0.9457\n",
            "Epoch 63/100\n",
            "91/91 [==============================] - 8s 90ms/step - loss: 0.0760 - accuracy: 0.9777 - val_loss: 0.0542 - val_accuracy: 0.9545\n",
            "Epoch 64/100\n",
            "91/91 [==============================] - 8s 90ms/step - loss: 0.0681 - accuracy: 0.9808 - val_loss: 0.5893 - val_accuracy: 0.9478\n",
            "Epoch 65/100\n",
            "91/91 [==============================] - 8s 92ms/step - loss: 0.0736 - accuracy: 0.9808 - val_loss: 0.3771 - val_accuracy: 0.9514\n",
            "Epoch 66/100\n",
            "91/91 [==============================] - 8s 91ms/step - loss: 0.0655 - accuracy: 0.9787 - val_loss: 0.3065 - val_accuracy: 0.9470\n",
            "Epoch 67/100\n",
            "91/91 [==============================] - 8s 91ms/step - loss: 0.0596 - accuracy: 0.9814 - val_loss: 0.0664 - val_accuracy: 0.9475\n",
            "Epoch 68/100\n",
            "91/91 [==============================] - 8s 90ms/step - loss: 0.0690 - accuracy: 0.9808 - val_loss: 2.8288e-04 - val_accuracy: 0.9442\n",
            "Epoch 69/100\n",
            "91/91 [==============================] - 8s 88ms/step - loss: 0.0726 - accuracy: 0.9785 - val_loss: 0.0082 - val_accuracy: 0.9501\n",
            "Epoch 70/100\n",
            "91/91 [==============================] - 8s 88ms/step - loss: 0.0638 - accuracy: 0.9828 - val_loss: 1.8650e-04 - val_accuracy: 0.9486\n",
            "Epoch 71/100\n",
            "91/91 [==============================] - 8s 88ms/step - loss: 0.0727 - accuracy: 0.9794 - val_loss: 3.6089e-04 - val_accuracy: 0.9569\n",
            "Epoch 72/100\n",
            "91/91 [==============================] - 8s 88ms/step - loss: 0.0564 - accuracy: 0.9851 - val_loss: 0.8167 - val_accuracy: 0.9556\n",
            "Epoch 73/100\n",
            "91/91 [==============================] - 8s 89ms/step - loss: 0.0575 - accuracy: 0.9837 - val_loss: 0.1234 - val_accuracy: 0.9491\n",
            "Epoch 74/100\n",
            "91/91 [==============================] - 8s 88ms/step - loss: 0.0725 - accuracy: 0.9806 - val_loss: 6.2993e-04 - val_accuracy: 0.9610\n",
            "Epoch 75/100\n",
            "91/91 [==============================] - 8s 89ms/step - loss: 0.0521 - accuracy: 0.9869 - val_loss: 5.9153e-04 - val_accuracy: 0.9561\n",
            "Epoch 76/100\n",
            "91/91 [==============================] - 8s 88ms/step - loss: 0.0545 - accuracy: 0.9851 - val_loss: 0.1288 - val_accuracy: 0.9525\n",
            "Epoch 77/100\n",
            "91/91 [==============================] - 8s 89ms/step - loss: 0.0634 - accuracy: 0.9821 - val_loss: 0.0523 - val_accuracy: 0.9618\n",
            "Epoch 78/100\n",
            "91/91 [==============================] - 8s 89ms/step - loss: 0.0552 - accuracy: 0.9859 - val_loss: 0.0509 - val_accuracy: 0.9636\n",
            "Epoch 79/100\n",
            "91/91 [==============================] - 8s 89ms/step - loss: 0.0567 - accuracy: 0.9808 - val_loss: 1.3158 - val_accuracy: 0.9470\n",
            "Epoch 80/100\n",
            "91/91 [==============================] - 8s 89ms/step - loss: 0.0677 - accuracy: 0.9821 - val_loss: 0.0288 - val_accuracy: 0.9673\n",
            "Epoch 81/100\n",
            "91/91 [==============================] - 8s 90ms/step - loss: 0.0577 - accuracy: 0.9826 - val_loss: 3.8222e-04 - val_accuracy: 0.9538\n",
            "Epoch 82/100\n",
            "91/91 [==============================] - 8s 90ms/step - loss: 0.0551 - accuracy: 0.9838 - val_loss: 0.1113 - val_accuracy: 0.9348\n",
            "Epoch 83/100\n",
            "91/91 [==============================] - 8s 90ms/step - loss: 0.0763 - accuracy: 0.9796 - val_loss: 1.0125 - val_accuracy: 0.9483\n",
            "Epoch 84/100\n",
            "91/91 [==============================] - 8s 89ms/step - loss: 0.0749 - accuracy: 0.9780 - val_loss: 4.3279e-04 - val_accuracy: 0.9605\n",
            "Epoch 85/100\n",
            "91/91 [==============================] - 8s 89ms/step - loss: 0.0657 - accuracy: 0.9828 - val_loss: 7.8066e-04 - val_accuracy: 0.9522\n",
            "Epoch 86/100\n",
            "91/91 [==============================] - 8s 89ms/step - loss: 0.0492 - accuracy: 0.9837 - val_loss: 0.2859 - val_accuracy: 0.9543\n",
            "Epoch 87/100\n",
            "91/91 [==============================] - 8s 89ms/step - loss: 0.0489 - accuracy: 0.9861 - val_loss: 0.2239 - val_accuracy: 0.9662\n",
            "Epoch 88/100\n",
            "91/91 [==============================] - 8s 90ms/step - loss: 0.0572 - accuracy: 0.9844 - val_loss: 9.0523e-04 - val_accuracy: 0.9569\n",
            "Epoch 89/100\n",
            "91/91 [==============================] - 8s 90ms/step - loss: 0.0557 - accuracy: 0.9842 - val_loss: 0.0018 - val_accuracy: 0.9512\n",
            "Epoch 90/100\n",
            "91/91 [==============================] - 8s 89ms/step - loss: 0.0501 - accuracy: 0.9852 - val_loss: 0.0014 - val_accuracy: 0.9465\n",
            "Epoch 91/100\n",
            "91/91 [==============================] - 8s 89ms/step - loss: 0.0466 - accuracy: 0.9871 - val_loss: 7.5253e-04 - val_accuracy: 0.9631\n",
            "Epoch 92/100\n",
            "91/91 [==============================] - 8s 89ms/step - loss: 0.0517 - accuracy: 0.9864 - val_loss: 0.3771 - val_accuracy: 0.9571\n",
            "Epoch 93/100\n",
            "91/91 [==============================] - 8s 89ms/step - loss: 0.0487 - accuracy: 0.9863 - val_loss: 0.0097 - val_accuracy: 0.9569\n",
            "Epoch 94/100\n",
            "91/91 [==============================] - 8s 89ms/step - loss: 0.0433 - accuracy: 0.9878 - val_loss: 0.0061 - val_accuracy: 0.9610\n",
            "Epoch 95/100\n",
            "91/91 [==============================] - 8s 89ms/step - loss: 0.0422 - accuracy: 0.9885 - val_loss: 0.0013 - val_accuracy: 0.9649\n",
            "Epoch 96/100\n",
            "91/91 [==============================] - 8s 89ms/step - loss: 0.0505 - accuracy: 0.9861 - val_loss: 0.0013 - val_accuracy: 0.9657\n",
            "Epoch 97/100\n",
            "91/91 [==============================] - 8s 89ms/step - loss: 0.0499 - accuracy: 0.9857 - val_loss: 0.4617 - val_accuracy: 0.9629\n",
            "Epoch 98/100\n",
            "91/91 [==============================] - 8s 90ms/step - loss: 0.0441 - accuracy: 0.9875 - val_loss: 1.7190e-04 - val_accuracy: 0.9704\n",
            "Epoch 99/100\n",
            "91/91 [==============================] - 8s 92ms/step - loss: 0.0611 - accuracy: 0.9825 - val_loss: 0.6297 - val_accuracy: 0.9691\n",
            "Epoch 100/100\n",
            "91/91 [==============================] - 8s 90ms/step - loss: 0.0459 - accuracy: 0.9887 - val_loss: 0.0011 - val_accuracy: 0.9660\n"
          ],
          "name": "stdout"
        }
      ]
    },
    {
      "cell_type": "code",
      "metadata": {
        "id": "GpzLRBL-G9Ir",
        "colab_type": "code",
        "colab": {
          "base_uri": "https://localhost:8080/",
          "height": 35
        },
        "outputId": "a5436843-411a-49b6-907e-aa6f18934792"
      },
      "source": [
        "# list all data in history\n",
        "print(History.history.keys())"
      ],
      "execution_count": 10,
      "outputs": [
        {
          "output_type": "stream",
          "text": [
            "dict_keys(['val_loss', 'val_accuracy', 'loss', 'accuracy'])\n"
          ],
          "name": "stdout"
        }
      ]
    },
    {
      "cell_type": "code",
      "metadata": {
        "id": "6LqVegr0KOlu",
        "colab_type": "code",
        "colab": {
          "base_uri": "https://localhost:8080/",
          "height": 295
        },
        "outputId": "b9c664ba-590c-4b70-c11c-5efa11a9ecb0"
      },
      "source": [
        "# summarize history for accuracy\n",
        "import matplotlib.pyplot as plt\n",
        "plt.plot(History.history['accuracy'])\n",
        "plt.plot(History.history['val_accuracy'])\n",
        "plt.title('model accuracy')\n",
        "plt.ylabel('accuracy')\n",
        "plt.xlabel('epoch')\n",
        "plt.legend(['train', 'test'], loc='upper left')\n",
        "plt.show()"
      ],
      "execution_count": 11,
      "outputs": [
        {
          "output_type": "display_data",
          "data": {
            "image/png": "[encoded data removed]",
            "text/plain": [
              "<Figure size 432x288 with 1 Axes>"
            ]
          },
          "metadata": {
            "tags": [],
            "needs_background": "light"
          }
        }
      ]
    },
    {
      "cell_type": "code",
      "metadata": {
        "id": "m41RQ5WqKVAb",
        "colab_type": "code",
        "colab": {
          "base_uri": "https://localhost:8080/",
          "height": 295
        },
        "outputId": "fbc30af7-cb8c-424a-920f-aaec319b4e78"
      },
      "source": [
        "# summarize history for loss\n",
        "plt.plot(History.history['loss'])\n",
        "plt.plot(History.history['val_loss'])\n",
        "plt.title('model loss')\n",
        "plt.ylabel('loss')\n",
        "plt.xlabel('epoch')\n",
        "plt.legend(['train', 'test'], loc='upper left')\n",
        "plt.show()"
      ],
      "execution_count": 12,
      "outputs": [
        {
          "output_type": "display_data",
          "data": {
            "image/png": "[encoded data removed]",
            "text/plain": [
              "<Figure size 432x288 with 1 Axes>"
            ]
          },
          "metadata": {
            "tags": [],
            "needs_background": "light"
          }
        }
      ]
    },
    {
      "cell_type": "code",
      "metadata": {
        "id": "Tsccyk7UKcPi",
        "colab_type": "code",
        "colab": {}
      },
      "source": [
        "# Import dependencies\n",
        "import json\n",
        "from keras.models import model_from_json, load_model\n",
        "\n",
        "# Save Weights + Architecture\n",
        "classifier.save_weights('pneumoniaUsingCNN_weights.h5')\n",
        "with open('pneumoniaUsingCNN_architecture.json', 'w') as f:\n",
        "    f.write(classifier.to_json())"
      ],
      "execution_count": 13,
      "outputs": []
    },
    {
      "cell_type": "code",
      "metadata": {
        "id": "zyGIgFwRK3Cq",
        "colab_type": "code",
        "colab": {}
      },
      "source": [
        "# Load Weights + Architecture\n",
        "with open('pneumoniaUsingCNN_architecture.json', 'r') as f:\n",
        "    loaded_model = model_from_json(f.read())\n",
        "loaded_model.load_weights('pneumoniaUsingCNN_weights.h5')"
      ],
      "execution_count": 14,
      "outputs": []
    },
    {
      "cell_type": "code",
      "metadata": {
        "id": "HrCmczdtK32m",
        "colab_type": "code",
        "colab": {
          "base_uri": "https://localhost:8080/",
          "height": 35
        },
        "outputId": "969c45b3-1528-4151-d16a-8b421fe8fc71"
      },
      "source": [
        "#compiling the cnn\n",
        "loaded_model.compile(optimizer='adam' , loss='categorical_crossentropy',metrics=['accuracy'])\n",
        "\n",
        "loaded_model.evaluate_generator(training_set,steps=91,max_queue_size=10,workers=1,use_multiprocessing=False,verbose=0)\n",
        "loaded_model.evaluate_generator(test_set,steps=91,max_queue_size=10,workers=1,use_multiprocessing=False,verbose=0)\n",
        "print(loaded_model.metrics_names)\n"
      ],
      "execution_count": 19,
      "outputs": [
        {
          "output_type": "stream",
          "text": [
            "['loss', 'accuracy']\n"
          ],
          "name": "stdout"
        }
      ]
    },
    {
      "cell_type": "code",
      "metadata": {
        "id": "e72YIgOJLQ6Z",
        "colab_type": "code",
        "colab": {
          "base_uri": "https://localhost:8080/",
          "height": 300
        },
        "outputId": "23258801-ab2b-4fc8-f34f-e46f352c09c1"
      },
      "source": [
        "import numpy as np\n",
        "from sklearn.metrics import classification_report, confusion_matrix\n",
        "import matplotlib.pyplot as plt\n",
        "test_set.classes\n",
        "Y_pred = loaded_model.predict_generator(test_set,steps=61)\n",
        "y_pred = np.argmax(Y_pred, axis=1)\n",
        "print('Confusion Matrix')\n",
        "cnf_matrix=confusion_matrix(test_set.classes, y_pred)\n",
        "#print(confusion_matrix(test_set.classes, y_pred))\n",
        "\n",
        "import seaborn as sns\n",
        "#sns.heatmap(cnf_matrix, annot=True)\n",
        "sns.heatmap(cnf_matrix, annot=True,cmap='Blues')"
      ],
      "execution_count": 22,
      "outputs": [
        {
          "output_type": "stream",
          "text": [
            "Confusion Matrix\n"
          ],
          "name": "stdout"
        },
        {
          "output_type": "execute_result",
          "data": {
            "text/plain": [
              "<matplotlib.axes._subplots.AxesSubplot at 0x7f070b3e1400>"
            ]
          },
          "metadata": {
            "tags": []
          },
          "execution_count": 22
        },
        {
          "output_type": "display_data",
          "data": {
            "image/png": "[encoded data removed]",
            "text/plain": [
              "<Figure size 432x288 with 2 Axes>"
            ]
          },
          "metadata": {
            "tags": [],
            "needs_background": "light"
          }
        }
      ]
    },
    {
      "cell_type": "code",
      "metadata": {
        "id": "9akByMPILX2q",
        "colab_type": "code",
        "colab": {}
      },
      "source": [
        ""
      ],
      "execution_count": null,
      "outputs": []
    }
  ]
}