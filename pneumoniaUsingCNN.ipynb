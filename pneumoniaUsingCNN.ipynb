{
  "nbformat": 4,
  "nbformat_minor": 0,
  "metadata": {
    "colab": {
      "name": "pneumoniaUsingCNN.ipynb",
      "provenance": [],
      "collapsed_sections": [],
      "authorship_tag": "ABX9TyN3gRGASKoIAbJeqHPMRaqv",
      "include_colab_link": true
    },
    "kernelspec": {
      "name": "python3",
      "display_name": "Python 3"
    },
    "accelerator": "GPU"
  },
  "cells": [
    {
      "cell_type": "markdown",
      "metadata": {
        "id": "view-in-github",
        "colab_type": "text"
      },
      "source": [
        "<a href=\"https://colab.research.google.com/github/BKN1810/DeepLearning/blob/master/pneumoniaUsingCNN.ipynb\" target=\"_parent\"><img src=\"https://colab.research.google.com/assets/colab-badge.svg\" alt=\"Open In Colab\"/></a>"
      ]
    },
    {
      "cell_type": "code",
      "metadata": {
        "id": "7e59erpsKppB",
        "colab_type": "code",
        "colab": {
          "base_uri": "https://localhost:8080/",
          "height": 228
        },
        "outputId": "2bc213d8-08c4-4e0b-a683-d16ccef1a477"
      },
      "source": [
        "# install the dependencies\n",
        "!pip install kaggle "
      ],
      "execution_count": 1,
      "outputs": [
        {
          "output_type": "stream",
          "text": [
            "Requirement already satisfied: kaggle in /usr/local/lib/python3.6/dist-packages (1.5.6)\n",
            "Requirement already satisfied: tqdm in /usr/local/lib/python3.6/dist-packages (from kaggle) (4.41.1)\n",
            "Requirement already satisfied: python-slugify in /usr/local/lib/python3.6/dist-packages (from kaggle) (4.0.1)\n",
            "Requirement already satisfied: certifi in /usr/local/lib/python3.6/dist-packages (from kaggle) (2020.6.20)\n",
            "Requirement already satisfied: urllib3<1.25,>=1.21.1 in /usr/local/lib/python3.6/dist-packages (from kaggle) (1.24.3)\n",
            "Requirement already satisfied: requests in /usr/local/lib/python3.6/dist-packages (from kaggle) (2.23.0)\n",
            "Requirement already satisfied: python-dateutil in /usr/local/lib/python3.6/dist-packages (from kaggle) (2.8.1)\n",
            "Requirement already satisfied: six>=1.10 in /usr/local/lib/python3.6/dist-packages (from kaggle) (1.15.0)\n",
            "Requirement already satisfied: text-unidecode>=1.3 in /usr/local/lib/python3.6/dist-packages (from python-slugify->kaggle) (1.3)\n",
            "Requirement already satisfied: idna<3,>=2.5 in /usr/local/lib/python3.6/dist-packages (from requests->kaggle) (2.10)\n",
            "Requirement already satisfied: chardet<4,>=3.0.2 in /usr/local/lib/python3.6/dist-packages (from requests->kaggle) (3.0.4)\n"
          ],
          "name": "stdout"
        }
      ]
    },
    {
      "cell_type": "code",
      "metadata": {
        "id": "rWTq4ceOsPgO",
        "colab_type": "code",
        "colab": {
          "resources": {
            "http://localhost:8080/nbextensions/google.colab/files.js": {
              "data": "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",
              "ok": true,
              "headers": [
                [
                  "content-type",
                  "application/javascript"
                ]
              ],
              "status": 200,
              "status_text": ""
            }
          },
          "base_uri": "https://localhost:8080/",
          "height": 91
        },
        "outputId": "6f99efe9-bf83-4939-9803-6a922635cfde"
      },
      "source": [
        "from google.colab import files\n",
        "files.upload() # load kaggle.json file from your computer"
      ],
      "execution_count": 4,
      "outputs": [
        {
          "output_type": "display_data",
          "data": {
            "text/html": [
              "\n",
              "     <input type=\"file\" id=\"files-2cbcd2fe-cab2-403f-a01b-acc1d77c7372\" name=\"files[]\" multiple disabled\n",
              "        style=\"border:none\" />\n",
              "     <output id=\"result-2cbcd2fe-cab2-403f-a01b-acc1d77c7372\">\n",
              "      Upload widget is only available when the cell has been executed in the\n",
              "      current browser session. Please rerun this cell to enable.\n",
              "      </output>\n",
              "      <script src=\"/nbextensions/google.colab/files.js\"></script> "
            ],
            "text/plain": [
              "<IPython.core.display.HTML object>"
            ]
          },
          "metadata": {
            "tags": []
          }
        },
        {
          "output_type": "stream",
          "text": [
            "Saving kaggle.json to kaggle.json\n"
          ],
          "name": "stdout"
        },
        {
          "output_type": "execute_result",
          "data": {
            "text/plain": [
              "{'kaggle.json': b'{\"username\":\"balnyaupane\",\"key\":\"3a04ddf4f6078c568e6bfd764239be34\"}'}"
            ]
          },
          "metadata": {
            "tags": []
          },
          "execution_count": 4
        }
      ]
    },
    {
      "cell_type": "code",
      "metadata": {
        "id": "VdtKXesqrMej",
        "colab_type": "code",
        "colab": {}
      },
      "source": [
        "!mkdir -p ~/.kaggle\n",
        "!cp kaggle.json ~/.kaggle/\n",
        "\n",
        "#Change the permission\n",
        "!chmod 600 ~/.kaggle/kaggle.json"
      ],
      "execution_count": 5,
      "outputs": []
    },
    {
      "cell_type": "code",
      "metadata": {
        "id": "6rmKoqqBrIba",
        "colab_type": "code",
        "colab": {
          "base_uri": "https://localhost:8080/",
          "height": 69
        },
        "outputId": "8afc661a-d6d1-4722-d961-94f043d16afc"
      },
      "source": [
        "!kaggle datasets download -d balnyaupane/pneumonia-chest-xray-dataset-200-by-200-image -p /content"
      ],
      "execution_count": 6,
      "outputs": [
        {
          "output_type": "stream",
          "text": [
            "Downloading pneumonia-chest-xray-dataset-200-by-200-image.zip to /content\n",
            " 92% 155M/168M [00:01<00:00, 79.4MB/s]\n",
            "100% 168M/168M [00:02<00:00, 85.0MB/s]\n"
          ],
          "name": "stdout"
        }
      ]
    },
    {
      "cell_type": "code",
      "metadata": {
        "id": "v2S4NM3IqJtl",
        "colab_type": "code",
        "colab": {}
      },
      "source": [
        "!unzip -uq \"/content/pneumonia-chest-xray-dataset-200-by-200-image.zip\" -d \"/content/Dataset\""
      ],
      "execution_count": 8,
      "outputs": []
    },
    {
      "cell_type": "code",
      "metadata": {
        "id": "vDtp8Ahfqaze",
        "colab_type": "code",
        "colab": {}
      },
      "source": [
        "from keras.models import Sequential\n",
        "from keras.layers import Convolution2D, ZeroPadding2D ,BatchNormalization\n",
        "from keras.layers import MaxPooling2D\n",
        "from keras.layers import Flatten\n",
        "from keras.layers import Dense , Dropout"
      ],
      "execution_count": 10,
      "outputs": []
    },
    {
      "cell_type": "code",
      "metadata": {
        "id": "bZItz9hutAuR",
        "colab_type": "code",
        "colab": {}
      },
      "source": [
        "classifier = Sequential()\n",
        "\n",
        "#step1-convolution\n",
        "# classifier.add(Convolution2D(filters=32, kernel_size=(3,3), strides=(1,1), input_shape=(S,S,3), activation='relu', padding='same'))\n",
        "# classifier.add(MaxPooling2D(pool_size=(2, 2)))\n",
        "\n",
        "classifier.add(Convolution2D(128,(3,3),input_shape=(200,200,1),activation='relu'))\n",
        "classifier.add(MaxPooling2D((2,2)))\n",
        "\n",
        "#adding second Convolution layer\n",
        "classifier.add(Convolution2D(256,(3,3),activation='relu'))\n",
        "classifier.add(MaxPooling2D((2,2)))\n",
        "\n",
        "#adding third Convolution layer\n",
        "classifier.add(Convolution2D(512,(3,3),activation='relu'))\n",
        "classifier.add(MaxPooling2D((2,2)))\n",
        "\n",
        "\n",
        "#step3-flattening\n",
        "classifier.add(Flatten())\n",
        "\n",
        "#step4-full connection\n",
        "classifier.add(Dense(activation='relu',units=512))\n",
        "\n",
        "classifier.add(Dense(activation='relu',units=128))\n",
        "\n",
        "classifier.add(Dense(activation='relu',units=128))\n",
        "\n",
        "classifier.add(Dense(activation='sigmoid',units=1))\n"
      ],
      "execution_count": 11,
      "outputs": []
    },
    {
      "cell_type": "code",
      "metadata": {
        "id": "OFifcUpFtNKa",
        "colab_type": "code",
        "colab": {
          "base_uri": "https://localhost:8080/",
          "height": 607
        },
        "outputId": "eeb8053c-4fef-45c5-a94a-59cb3c06c395"
      },
      "source": [
        "#compiling the cnn\n",
        "classifier.compile(optimizer='rmsprop' , loss='binary_crossentropy',metrics=['accuracy'])\n",
        "\n",
        "#part2- fitting the CNN to the images\n",
        "from keras.preprocessing.image import ImageDataGenerator\n",
        "\n",
        "train_datagen = ImageDataGenerator(rescale=1./255,\n",
        "        shear_range=0.2,\n",
        "        zoom_range=0.2,\n",
        "        horizontal_flip=True)\n",
        "\n",
        "test_datagen = ImageDataGenerator(rescale=1./255)\n",
        "\n",
        "training_set = train_datagen.flow_from_directory('/content/Dataset/Pneumonia_dataset_200_by_200_image/train',\n",
        "        target_size=(200, 200),\n",
        "        batch_size=64,\n",
        "        color_mode='grayscale',\n",
        "        class_mode='binary')\n",
        "\n",
        "print(\"training_set.class_indices:   \",training_set.class_indices)\n",
        "\n",
        "test_set = test_datagen.flow_from_directory('/content/Dataset/Pneumonia_dataset_200_by_200_image/test',\n",
        "        target_size=(200, 200),\n",
        "        batch_size=64,\n",
        "        color_mode='grayscale',\n",
        "        class_mode='binary')\n",
        "\n",
        "print(\"test_set.class_indices:   \",test_set.class_indices)\n",
        "\n",
        "# summarize model.\n",
        "classifier.summary()\n"
      ],
      "execution_count": 12,
      "outputs": [
        {
          "output_type": "stream",
          "text": [
            "Found 10432 images belonging to 2 classes.\n",
            "training_set.class_indices:    {'normal': 0, 'pneumonia': 1}\n",
            "Found 1248 images belonging to 2 classes.\n",
            "test_set.class_indices:    {'Normal': 0, 'pneumonia': 1}\n",
            "Model: \"sequential_1\"\n",
            "_________________________________________________________________\n",
            "Layer (type)                 Output Shape              Param #   \n",
            "=================================================================\n",
            "conv2d_1 (Conv2D)            (None, 198, 198, 128)     1280      \n",
            "_________________________________________________________________\n",
            "max_pooling2d_1 (MaxPooling2 (None, 99, 99, 128)       0         \n",
            "_________________________________________________________________\n",
            "conv2d_2 (Conv2D)            (None, 97, 97, 256)       295168    \n",
            "_________________________________________________________________\n",
            "max_pooling2d_2 (MaxPooling2 (None, 48, 48, 256)       0         \n",
            "_________________________________________________________________\n",
            "conv2d_3 (Conv2D)            (None, 46, 46, 512)       1180160   \n",
            "_________________________________________________________________\n",
            "max_pooling2d_3 (MaxPooling2 (None, 23, 23, 512)       0         \n",
            "_________________________________________________________________\n",
            "flatten_1 (Flatten)          (None, 270848)            0         \n",
            "_________________________________________________________________\n",
            "dense_1 (Dense)              (None, 512)               138674688 \n",
            "_________________________________________________________________\n",
            "dense_2 (Dense)              (None, 128)               65664     \n",
            "_________________________________________________________________\n",
            "dense_3 (Dense)              (None, 128)               16512     \n",
            "_________________________________________________________________\n",
            "dense_4 (Dense)              (None, 1)                 129       \n",
            "=================================================================\n",
            "Total params: 140,233,601\n",
            "Trainable params: 140,233,601\n",
            "Non-trainable params: 0\n",
            "_________________________________________________________________\n"
          ],
          "name": "stdout"
        }
      ]
    },
    {
      "cell_type": "code",
      "metadata": {
        "id": "Vlzu7hqhtx67",
        "colab_type": "code",
        "colab": {
          "base_uri": "https://localhost:8080/",
          "height": 1000
        },
        "outputId": "6f1af461-8607-44bc-c8a4-e737b319f989"
      },
      "source": [
        "History=classifier.fit_generator(training_set,\n",
        "        steps_per_epoch=163,\n",
        "        epochs=50,\n",
        "        validation_data=test_set,\n",
        "        validation_steps=20)"
      ],
      "execution_count": 13,
      "outputs": [
        {
          "output_type": "stream",
          "text": [
            "Epoch 1/50\n",
            "163/163 [==============================] - 52s 320ms/step - loss: 1.0863 - accuracy: 0.7619 - val_loss: 0.8620 - val_accuracy: 0.6955\n",
            "Epoch 2/50\n",
            "163/163 [==============================] - 45s 274ms/step - loss: 0.3170 - accuracy: 0.8765 - val_loss: 0.7016 - val_accuracy: 0.8157\n",
            "Epoch 3/50\n",
            "163/163 [==============================] - 45s 274ms/step - loss: 0.2347 - accuracy: 0.9085 - val_loss: 0.4878 - val_accuracy: 0.8670\n",
            "Epoch 4/50\n",
            "163/163 [==============================] - 45s 275ms/step - loss: 0.1952 - accuracy: 0.9282 - val_loss: 2.6749 - val_accuracy: 0.7179\n",
            "Epoch 5/50\n",
            "163/163 [==============================] - 45s 275ms/step - loss: 0.1791 - accuracy: 0.9356 - val_loss: 0.2833 - val_accuracy: 0.9215\n",
            "Epoch 6/50\n",
            "163/163 [==============================] - 45s 274ms/step - loss: 0.1578 - accuracy: 0.9465 - val_loss: 0.0870 - val_accuracy: 0.8510\n",
            "Epoch 7/50\n",
            "163/163 [==============================] - 45s 276ms/step - loss: 0.1478 - accuracy: 0.9485 - val_loss: 0.6906 - val_accuracy: 0.8974\n",
            "Epoch 8/50\n",
            "163/163 [==============================] - 45s 274ms/step - loss: 0.1534 - accuracy: 0.9491 - val_loss: 0.5660 - val_accuracy: 0.8349\n",
            "Epoch 9/50\n",
            "163/163 [==============================] - 45s 275ms/step - loss: 0.1310 - accuracy: 0.9570 - val_loss: 0.1043 - val_accuracy: 0.9279\n",
            "Epoch 10/50\n",
            "163/163 [==============================] - 45s 274ms/step - loss: 0.1355 - accuracy: 0.9549 - val_loss: 0.5100 - val_accuracy: 0.8654\n",
            "Epoch 11/50\n",
            "163/163 [==============================] - 45s 275ms/step - loss: 0.1212 - accuracy: 0.9589 - val_loss: 0.1828 - val_accuracy: 0.9167\n",
            "Epoch 12/50\n",
            "163/163 [==============================] - 45s 275ms/step - loss: 0.1242 - accuracy: 0.9595 - val_loss: 0.1994 - val_accuracy: 0.8670\n",
            "Epoch 13/50\n",
            "163/163 [==============================] - 45s 275ms/step - loss: 0.1134 - accuracy: 0.9601 - val_loss: 2.0306 - val_accuracy: 0.8990\n",
            "Epoch 14/50\n",
            "163/163 [==============================] - 45s 276ms/step - loss: 0.1236 - accuracy: 0.9621 - val_loss: 0.3446 - val_accuracy: 0.9151\n",
            "Epoch 15/50\n",
            "163/163 [==============================] - 45s 274ms/step - loss: 0.1203 - accuracy: 0.9618 - val_loss: 0.0976 - val_accuracy: 0.9071\n",
            "Epoch 16/50\n",
            "163/163 [==============================] - 45s 275ms/step - loss: 0.1263 - accuracy: 0.9603 - val_loss: 0.4296 - val_accuracy: 0.9022\n",
            "Epoch 17/50\n",
            "163/163 [==============================] - 45s 274ms/step - loss: 0.1093 - accuracy: 0.9641 - val_loss: 0.0586 - val_accuracy: 0.8910\n",
            "Epoch 18/50\n",
            "163/163 [==============================] - 45s 275ms/step - loss: 0.1152 - accuracy: 0.9617 - val_loss: 0.5795 - val_accuracy: 0.8381\n",
            "Epoch 19/50\n",
            "163/163 [==============================] - 45s 274ms/step - loss: 0.1143 - accuracy: 0.9649 - val_loss: 0.9965 - val_accuracy: 0.9263\n",
            "Epoch 20/50\n",
            "163/163 [==============================] - 45s 275ms/step - loss: 0.1061 - accuracy: 0.9667 - val_loss: 0.2800 - val_accuracy: 0.8814\n",
            "Epoch 21/50\n",
            "163/163 [==============================] - 45s 276ms/step - loss: 0.1020 - accuracy: 0.9661 - val_loss: 0.8272 - val_accuracy: 0.8798\n",
            "Epoch 22/50\n",
            "163/163 [==============================] - 45s 275ms/step - loss: 0.0996 - accuracy: 0.9696 - val_loss: 0.5198 - val_accuracy: 0.9215\n",
            "Epoch 23/50\n",
            "163/163 [==============================] - 45s 275ms/step - loss: 0.0994 - accuracy: 0.9670 - val_loss: 1.2093 - val_accuracy: 0.8494\n",
            "Epoch 24/50\n",
            "163/163 [==============================] - 45s 275ms/step - loss: 0.1217 - accuracy: 0.9680 - val_loss: 1.4557 - val_accuracy: 0.8686\n",
            "Epoch 25/50\n",
            "163/163 [==============================] - 45s 276ms/step - loss: 0.1250 - accuracy: 0.9690 - val_loss: 0.4563 - val_accuracy: 0.9199\n",
            "Epoch 26/50\n",
            "163/163 [==============================] - 45s 275ms/step - loss: 0.1223 - accuracy: 0.9677 - val_loss: 0.8512 - val_accuracy: 0.9038\n",
            "Epoch 27/50\n",
            "163/163 [==============================] - 45s 276ms/step - loss: 0.0973 - accuracy: 0.9683 - val_loss: 0.0937 - val_accuracy: 0.9215\n",
            "Epoch 28/50\n",
            "163/163 [==============================] - 45s 276ms/step - loss: 0.1005 - accuracy: 0.9690 - val_loss: 0.1134 - val_accuracy: 0.9087\n",
            "Epoch 29/50\n",
            "163/163 [==============================] - 45s 276ms/step - loss: 0.0967 - accuracy: 0.9699 - val_loss: 0.4251 - val_accuracy: 0.8558\n",
            "Epoch 30/50\n",
            "163/163 [==============================] - 45s 275ms/step - loss: 0.1106 - accuracy: 0.9688 - val_loss: 0.3634 - val_accuracy: 0.9167\n",
            "Epoch 31/50\n",
            "163/163 [==============================] - 45s 275ms/step - loss: 0.0903 - accuracy: 0.9702 - val_loss: 0.0511 - val_accuracy: 0.9343\n",
            "Epoch 32/50\n",
            "163/163 [==============================] - 45s 276ms/step - loss: 0.0891 - accuracy: 0.9711 - val_loss: 0.4545 - val_accuracy: 0.9279\n",
            "Epoch 33/50\n",
            "163/163 [==============================] - 45s 275ms/step - loss: 0.0973 - accuracy: 0.9693 - val_loss: 1.0161 - val_accuracy: 0.9311\n",
            "Epoch 34/50\n",
            "163/163 [==============================] - 45s 275ms/step - loss: 0.2321 - accuracy: 0.9711 - val_loss: 0.1465 - val_accuracy: 0.9022\n",
            "Epoch 35/50\n",
            "163/163 [==============================] - 45s 276ms/step - loss: 0.0892 - accuracy: 0.9722 - val_loss: 1.0144 - val_accuracy: 0.9247\n",
            "Epoch 36/50\n",
            "163/163 [==============================] - 45s 276ms/step - loss: 0.1198 - accuracy: 0.9722 - val_loss: 1.0695 - val_accuracy: 0.9359\n",
            "Epoch 37/50\n",
            "163/163 [==============================] - 45s 275ms/step - loss: 0.0816 - accuracy: 0.9734 - val_loss: 0.0160 - val_accuracy: 0.9279\n",
            "Epoch 38/50\n",
            "163/163 [==============================] - 45s 276ms/step - loss: 0.0876 - accuracy: 0.9713 - val_loss: 1.4642 - val_accuracy: 0.9022\n",
            "Epoch 39/50\n",
            "163/163 [==============================] - 45s 275ms/step - loss: 0.0894 - accuracy: 0.9716 - val_loss: 0.5524 - val_accuracy: 0.9295\n",
            "Epoch 40/50\n",
            "163/163 [==============================] - 45s 275ms/step - loss: 0.1402 - accuracy: 0.9704 - val_loss: 0.2490 - val_accuracy: 0.9263\n",
            "Epoch 41/50\n",
            "163/163 [==============================] - 45s 275ms/step - loss: 0.0774 - accuracy: 0.9736 - val_loss: 0.7358 - val_accuracy: 0.8702\n",
            "Epoch 42/50\n",
            "163/163 [==============================] - 45s 276ms/step - loss: 0.0835 - accuracy: 0.9714 - val_loss: 0.2755 - val_accuracy: 0.9407\n",
            "Epoch 43/50\n",
            "163/163 [==============================] - 45s 276ms/step - loss: 0.0850 - accuracy: 0.9721 - val_loss: 1.8522 - val_accuracy: 0.9295\n",
            "Epoch 44/50\n",
            "163/163 [==============================] - 45s 275ms/step - loss: 0.0882 - accuracy: 0.9739 - val_loss: 3.5202 - val_accuracy: 0.8846\n",
            "Epoch 45/50\n",
            "163/163 [==============================] - 45s 276ms/step - loss: 0.0818 - accuracy: 0.9739 - val_loss: 1.0619 - val_accuracy: 0.9295\n",
            "Epoch 46/50\n",
            "163/163 [==============================] - 45s 275ms/step - loss: 0.1011 - accuracy: 0.9740 - val_loss: 0.3187 - val_accuracy: 0.8862\n",
            "Epoch 47/50\n",
            "163/163 [==============================] - 45s 275ms/step - loss: 0.0853 - accuracy: 0.9735 - val_loss: 0.6682 - val_accuracy: 0.9183\n",
            "Epoch 48/50\n",
            "163/163 [==============================] - 45s 275ms/step - loss: 0.1090 - accuracy: 0.9733 - val_loss: 1.4174 - val_accuracy: 0.9038\n",
            "Epoch 49/50\n",
            "163/163 [==============================] - 45s 277ms/step - loss: 0.0820 - accuracy: 0.9754 - val_loss: 0.1813 - val_accuracy: 0.8878\n",
            "Epoch 50/50\n",
            "163/163 [==============================] - 45s 276ms/step - loss: 0.1006 - accuracy: 0.9750 - val_loss: 1.6754 - val_accuracy: 0.9006\n"
          ],
          "name": "stdout"
        }
      ]
    },
    {
      "cell_type": "code",
      "metadata": {
        "id": "o9m-rpwrx6YM",
        "colab_type": "code",
        "colab": {
          "base_uri": "https://localhost:8080/",
          "height": 35
        },
        "outputId": "70a8d5d2-8fb4-421b-b226-5db3adca65f6"
      },
      "source": [
        "# list all data in history\n",
        "print(History.history.keys())"
      ],
      "execution_count": 14,
      "outputs": [
        {
          "output_type": "stream",
          "text": [
            "dict_keys(['val_loss', 'val_accuracy', 'loss', 'accuracy'])\n"
          ],
          "name": "stdout"
        }
      ]
    },
    {
      "cell_type": "code",
      "metadata": {
        "id": "c4oBak-U425O",
        "colab_type": "code",
        "colab": {
          "base_uri": "https://localhost:8080/",
          "height": 295
        },
        "outputId": "40c8b8fc-a267-436b-e049-f667d33627a6"
      },
      "source": [
        "# summarize history for accuracy\n",
        "import matplotlib.pyplot as plt\n",
        "plt.plot(History.history['accuracy'])\n",
        "plt.plot(History.history['val_accuracy'])\n",
        "plt.title('model accuracy')\n",
        "plt.ylabel('accuracy')\n",
        "plt.xlabel('epoch')\n",
        "plt.legend(['train', 'test'], loc='upper left')\n",
        "plt.show()"
      ],
      "execution_count": 15,
      "outputs": [
        {
          "output_type": "display_data",
          "data": {
            "image/png": "[encoded data removed]",
            "text/plain": [
              "<Figure size 432x288 with 1 Axes>"
            ]
          },
          "metadata": {
            "tags": [],
            "needs_background": "light"
          }
        }
      ]
    },
    {
      "cell_type": "code",
      "metadata": {
        "id": "I4SMv2QN4_bC",
        "colab_type": "code",
        "colab": {
          "base_uri": "https://localhost:8080/",
          "height": 295
        },
        "outputId": "bed995a3-4928-4d02-d4b1-7325aacadc9f"
      },
      "source": [
        "# summarize history for loss\n",
        "plt.plot(History.history['loss'])\n",
        "plt.plot(History.history['val_loss'])\n",
        "plt.title('model loss')\n",
        "plt.ylabel('loss')\n",
        "plt.xlabel('epoch')\n",
        "plt.legend(['train', 'test'], loc='upper left')\n",
        "plt.show()"
      ],
      "execution_count": 16,
      "outputs": [
        {
          "output_type": "display_data",
          "data": {
            "image/png": "[encoded data removed]",
            "text/plain": [
              "<Figure size 432x288 with 1 Axes>"
            ]
          },
          "metadata": {
            "tags": [],
            "needs_background": "light"
          }
        }
      ]
    },
    {
      "cell_type": "code",
      "metadata": {
        "id": "2g33EsB05Wez",
        "colab_type": "code",
        "colab": {}
      },
      "source": [
        "# Import dependencies\n",
        "import json\n",
        "from keras.models import model_from_json, load_model\n",
        "\n",
        "# Save Weights + Architecture\n",
        "classifier.save_weights('pneumoniaUsingCNN_weights.h5')\n",
        "with open('pneumoniaUsingCNN_architecture.json', 'w') as f:\n",
        "    f.write(classifier.to_json())"
      ],
      "execution_count": 17,
      "outputs": []
    },
    {
      "cell_type": "code",
      "metadata": {
        "id": "GbB8X_E2C-M2",
        "colab_type": "code",
        "colab": {}
      },
      "source": [
        "# Load Weights + Architecture\n",
        "with open('pneumoniaUsingCNN_architecture.json', 'r') as f:\n",
        "    loaded_model = model_from_json(f.read())\n",
        "loaded_model.load_weights('pneumoniaUsingCNN_weights.h5')"
      ],
      "execution_count": 18,
      "outputs": []
    },
    {
      "cell_type": "code",
      "metadata": {
        "id": "1TBFmPcmFeaY",
        "colab_type": "code",
        "colab": {
          "base_uri": "https://localhost:8080/",
          "height": 35
        },
        "outputId": "b8351b7b-354a-4dab-fca6-585b0347cf1d"
      },
      "source": [
        "#compiling the cnn\n",
        "loaded_model.compile(optimizer='rmsprop' , loss='binary_crossentropy',metrics=['accuracy'])\n",
        "\n",
        "loaded_model.evaluate_generator(training_set,steps=32,max_queue_size=10,workers=1,use_multiprocessing=False,verbose=0)\n",
        "loaded_model.evaluate_generator(test_set,steps=32,max_queue_size=10,workers=1,use_multiprocessing=False,verbose=0)\n",
        "print(loaded_model.metrics_names)\n"
      ],
      "execution_count": 20,
      "outputs": [
        {
          "output_type": "stream",
          "text": [
            "['loss', 'accuracy']\n"
          ],
          "name": "stdout"
        }
      ]
    },
    {
      "cell_type": "code",
      "metadata": {
        "id": "71-tqKjdF2U-",
        "colab_type": "code",
        "colab": {
          "base_uri": "https://localhost:8080/",
          "height": 300
        },
        "outputId": "38205dff-2fd0-4b47-e8f6-5c5046e2129e"
      },
      "source": [
        "import numpy as np\n",
        "from sklearn.metrics import classification_report, confusion_matrix\n",
        "import matplotlib.pyplot as plt\n",
        "test_set.classes\n",
        "Y_pred = loaded_model.predict_generator(test_set,steps=20)\n",
        "y_pred = np.argmax(Y_pred, axis=1)\n",
        "print('Confusion Matrix')\n",
        "cnf_matrix=confusion_matrix(test_set.classes, y_pred)\n",
        "#print(confusion_matrix(test_set.classes, y_pred))\n",
        "\n",
        "import seaborn as sns\n",
        "#sns.heatmap(cnf_matrix, annot=True)\n",
        "sns.heatmap(cnf_matrix/np.sum(cnf_matrix), annot=True,fmt='.2%', cmap='Blues')"
      ],
      "execution_count": 24,
      "outputs": [
        {
          "output_type": "stream",
          "text": [
            "Confusion Matrix\n"
          ],
          "name": "stdout"
        },
        {
          "output_type": "execute_result",
          "data": {
            "text/plain": [
              "<matplotlib.axes._subplots.AxesSubplot at 0x7f125f2275c0>"
            ]
          },
          "metadata": {
            "tags": []
          },
          "execution_count": 24
        },
        {
          "output_type": "display_data",
          "data": {
            "image/png": "[encoded data removed]",
            "text/plain": [
              "<Figure size 432x288 with 2 Axes>"
            ]
          },
          "metadata": {
            "tags": [],
            "needs_background": "light"
          }
        }
      ]
    }
  ]
}